{
 "metadata": {
  "name": "",
  "signature": "sha256:0bfb594f380580f1f3ffc3dee640e4fa7385c190dc7fc9eea1d816ba6c8f7ab5"
 },
 "nbformat": 3,
 "nbformat_minor": 0,
 "worksheets": [
  {
   "cells": [
    {
     "cell_type": "markdown",
     "metadata": {},
     "source": [
      "# Homework 2: More Exploratory Data Analysis\n",
      "## Gene Expression Data and Election Polls \n",
      "\n",
      "Due: Thursday, October 2, 2014 11:59 PM\n",
      "\n",
      "<a href=https://raw.githubusercontent.com/cs109/2014/master/homework/HW2.ipynb download=HW2.ipynb> Download this assignment</a>\n",
      "\n",
      "#### Submission Instructions\n",
      "To submit your homework, create a folder named lastname_firstinitial_hw# and place your IPython notebooks, data files, and any other files in this folder. Your IPython Notebooks should be completely executed with the results visible in the notebook. We should not have to run any code. Compress the folder (please use .zip compression) and submit to the CS109 dropbox in the appropriate folder. If we cannot access your work because these directions are not followed correctly, we will not grade your work.\n",
      "\n",
      "\n",
      "---"
     ]
    },
    {
     "cell_type": "markdown",
     "metadata": {},
     "source": [
      "## Introduction\n",
      "\n",
      "John Tukey wrote in [Exploratory Data Analysis, 1977](http://www.amazon.com/Exploratory-Data-Analysis-Wilder-Tukey/dp/0201076160/ref=pd_bbs_sr_2/103-4466654-5303007?ie=UTF8&s=books&qid=1189739816&sr=8-2): \"The greatest value of a picture is when it forces us to notice what we never expected to see.\" In this assignment we will continue using our exploratory data analysis tools, but apply it to new sets of data: [gene expression](http://en.wikipedia.org/wiki/Gene_expression) and polls from the [2012 Presidental Election](http://en.wikipedia.org/wiki/United_States_presidential_election,_2012) and from the [2014 Senate Midterm Elections](http://en.wikipedia.org/wiki/United_States_Senate_elections,_2014).   \n",
      "\n",
      "**First**: You will use exploratory data analysis and apply the [singular value decomposition](http://en.wikipedia.org/wiki/Singular_value_decomposition) (SVD) to a gene expression data matrix to determine if the the date that the gene expression samples are processed has large effect on the variability seen in the data.  \n",
      "\n",
      "**Second**: You will use the polls from the 2012 Presidential Elections to determine (1) Is there a pollster bias in presidential election polls? and (2) Is the average of polls better than just one poll?\n",
      "\n",
      "**Finally**: You will use the [HuffPost Pollster API](http://elections.huffingtonpost.com/pollster/api) to extract the polls for the current 2014 Senate Midterm Elections and provide a preliminary prediction of the result of each state.\n",
      "\n",
      "#### Data\n",
      "\n",
      "We will use the following data sets: \n",
      "\n",
      "1. A gene expression data set called `exprs_GSE5859.csv` and sample annotation table called `sampleinfo_GSE5859.csv` which are both available on Github in the 2014_data repository: [expression data set](https://github.com/cs109/2014_data/blob/master/exprs_GSE5859.csv) and [sample annotation table](https://github.com/cs109/2014_data/blob/master/sampleinfo_GSE5859.csv).  \n",
      "\n",
      "2. Polls from the [2012 Presidential Election: Barack Obama vs Mitt Romney](http://elections.huffingtonpost.com/pollster/2012-general-election-romney-vs-obama). The polls we will use are from the [Huffington Post Pollster](http://elections.huffingtonpost.com/pollster).  \n",
      "\n",
      "3. Polls from the [2014 Senate Midterm Elections](http://elections.huffingtonpost.com/pollster) from the [HuffPost Pollster API](http://elections.huffingtonpost.com/pollster/api). \n",
      "\n",
      "---"
     ]
    },
    {
     "cell_type": "markdown",
     "metadata": {},
     "source": [
      "## Load Python modules"
     ]
    },
    {
     "cell_type": "code",
     "collapsed": false,
     "input": [
      "# special IPython command to prepare the notebook for matplotlib\n",
      "%matplotlib inline \n",
      "\n",
      "import requests \n",
      "from StringIO import StringIO\n",
      "import numpy as np\n",
      "import pandas as pd # pandas\n",
      "import matplotlib.pyplot as plt # module for plotting \n",
      "import datetime as dt # module for manipulating dates and times\n",
      "import numpy.linalg as lin # module for performing linear algebra operations\n",
      "import scipy.stats as stat #imported to calculate confidence\n",
      "print 1"
     ],
     "language": "python",
     "metadata": {},
     "outputs": [
      {
       "output_type": "stream",
       "stream": "stdout",
       "text": [
        "1\n"
       ]
      }
     ],
     "prompt_number": 420
    },
    {
     "cell_type": "markdown",
     "metadata": {},
     "source": [
      "## Problem 1\n",
      "\n",
      "In this problem we will be using a [gene expression](http://en.wikipedia.org/wiki/Gene_expression) data set obtained from a [microarray](http://en.wikipedia.org/wiki/DNA_microarray) experiement [Read more about the specific experiment here](http://www.ncbi.nlm.nih.gov/geo/query/acc.cgi?acc=GSE5859).  There are two data sets we will use:  \n",
      "\n",
      "1. The gene expression intensities where the rows represent the features on the microarray (e.g. genes) and the columns represent the different microarray samples.  \n",
      "\n",
      "2. A table that contains the information about each of the samples (columns in the gene expression data set) such as the sex, the age, the treatment status, the date the samples were processed.  Each row represents one sample. "
     ]
    },
    {
     "cell_type": "markdown",
     "metadata": {},
     "source": [
      "#### Problem 1(a) \n",
      "Read in the two files from Github: [exprs_GSE5859.csv](https://github.com/cs109/2014_data/blob/master/exprs_GSE5859.csv) and [sampleinfo_GSE5859.csv](https://github.com/cs109/2014_data/blob/master/sampleinfo_GSE5859.csv) as pandas DataFrames called `exprs` and `sampleinfo`. Use the gene names as the index of the `exprs` DataFrame."
     ]
    },
    {
     "cell_type": "code",
     "collapsed": false,
     "input": [
      "#defines function for getting csv given a suitable url\n",
      "def getcsv (url):\n",
      "    csv = StringIO(requests.get(url).content)\n",
      "    file = pd.read_csv(csv)\n",
      "    return file\n",
      "    \n",
      "#pulls exprstemp from url\n",
      "exprstemp = getcsv(\"https://raw.githubusercontent.com/cs109/2014_data/master/exprs_GSE5859.csv\")\n",
      "#renames column to useable form\n",
      "exprstemp = exprstemp.rename(columns = {exprstemp.columns[0]:\"Gene name\"})\n",
      "exprs = exprstemp.set_index(\"Gene name\")\n",
      "#pulls sampleinfo from url\n",
      "sampleinfo = getcsv(\"https://raw.githubusercontent.com/cs109/2014_data/master/sampleinfo_GSE5859.csv\")\n",
      "exprs.head()"
     ],
     "language": "python",
     "metadata": {},
     "outputs": [
      {
       "html": [
        "<div style=\"max-height:1000px;max-width:1500px;overflow:auto;\">\n",
        "<table border=\"1\" class=\"dataframe\">\n",
        "  <thead>\n",
        "    <tr style=\"text-align: right;\">\n",
        "      <th></th>\n",
        "      <th>GSM25581.CEL.gz</th>\n",
        "      <th>GSM25681.CEL.gz</th>\n",
        "      <th>GSM136524.CEL.gz</th>\n",
        "      <th>GSM136707.CEL.gz</th>\n",
        "      <th>GSM25553.CEL.gz</th>\n",
        "      <th>GSM136676.CEL.gz</th>\n",
        "      <th>GSM136711.CEL.gz</th>\n",
        "      <th>GSM136542.CEL.gz</th>\n",
        "      <th>GSM136535.CEL.gz</th>\n",
        "      <th>GSM25399.CEL.gz</th>\n",
        "      <th>GSM25552.CEL.gz</th>\n",
        "      <th>GSM25542.CEL.gz</th>\n",
        "      <th>GSM136544.CEL.gz</th>\n",
        "      <th>GSM25662.CEL.gz</th>\n",
        "      <th>GSM136563.CEL.gz</th>\n",
        "      <th>GSM48663.CEL.gz</th>\n",
        "      <th>GSM136547.CEL.gz</th>\n",
        "      <th>GSM136710.CEL.gz</th>\n",
        "      <th>GSM25660.CEL.gz</th>\n",
        "      <th>GSM136557.CEL.gz</th>\n",
        "      <th></th>\n",
        "    </tr>\n",
        "    <tr>\n",
        "      <th>Gene name</th>\n",
        "      <th></th>\n",
        "      <th></th>\n",
        "      <th></th>\n",
        "      <th></th>\n",
        "      <th></th>\n",
        "      <th></th>\n",
        "      <th></th>\n",
        "      <th></th>\n",
        "      <th></th>\n",
        "      <th></th>\n",
        "      <th></th>\n",
        "      <th></th>\n",
        "      <th></th>\n",
        "      <th></th>\n",
        "      <th></th>\n",
        "      <th></th>\n",
        "      <th></th>\n",
        "      <th></th>\n",
        "      <th></th>\n",
        "      <th></th>\n",
        "    </tr>\n",
        "  </thead>\n",
        "  <tbody>\n",
        "    <tr>\n",
        "      <th>1007_s_at</th>\n",
        "      <td> 6.333951</td>\n",
        "      <td> 5.736190</td>\n",
        "      <td> 6.156754</td>\n",
        "      <td> 6.513010</td>\n",
        "      <td> 6.061013</td>\n",
        "      <td> 6.506493</td>\n",
        "      <td> 6.863426</td>\n",
        "      <td> 6.369645</td>\n",
        "      <td> 6.646321</td>\n",
        "      <td> 5.810930</td>\n",
        "      <td> 6.364868</td>\n",
        "      <td> 6.486811</td>\n",
        "      <td> 6.398854</td>\n",
        "      <td> 6.518133</td>\n",
        "      <td> 6.639091</td>\n",
        "      <td> 5.981000</td>\n",
        "      <td> 6.782794</td>\n",
        "      <td> 6.452495</td>\n",
        "      <td> 6.028523</td>\n",
        "      <td> 6.403664</td>\n",
        "      <td>...</td>\n",
        "    </tr>\n",
        "    <tr>\n",
        "      <th>1053_at</th>\n",
        "      <td> 7.255622</td>\n",
        "      <td> 7.399993</td>\n",
        "      <td> 7.491967</td>\n",
        "      <td> 7.006123</td>\n",
        "      <td> 7.250995</td>\n",
        "      <td> 7.082581</td>\n",
        "      <td> 6.842236</td>\n",
        "      <td> 7.048487</td>\n",
        "      <td> 7.042361</td>\n",
        "      <td> 6.666625</td>\n",
        "      <td> 7.462191</td>\n",
        "      <td> 6.371948</td>\n",
        "      <td> 7.490546</td>\n",
        "      <td> 7.260461</td>\n",
        "      <td> 7.028731</td>\n",
        "      <td> 7.120923</td>\n",
        "      <td> 6.853129</td>\n",
        "      <td> 7.211626</td>\n",
        "      <td> 7.513955</td>\n",
        "      <td> 6.969475</td>\n",
        "      <td>...</td>\n",
        "    </tr>\n",
        "    <tr>\n",
        "      <th>117_at</th>\n",
        "      <td> 5.760106</td>\n",
        "      <td> 4.825169</td>\n",
        "      <td> 5.039387</td>\n",
        "      <td> 5.414160</td>\n",
        "      <td> 5.205697</td>\n",
        "      <td> 5.300078</td>\n",
        "      <td> 5.099337</td>\n",
        "      <td> 5.156459</td>\n",
        "      <td> 5.736109</td>\n",
        "      <td> 5.807496</td>\n",
        "      <td> 5.147773</td>\n",
        "      <td> 5.829625</td>\n",
        "      <td> 5.158053</td>\n",
        "      <td> 5.336988</td>\n",
        "      <td> 5.361298</td>\n",
        "      <td> 5.275577</td>\n",
        "      <td> 5.252160</td>\n",
        "      <td> 5.092673</td>\n",
        "      <td> 5.592048</td>\n",
        "      <td> 5.641260</td>\n",
        "      <td>...</td>\n",
        "    </tr>\n",
        "    <tr>\n",
        "      <th>121_at</th>\n",
        "      <td> 6.935451</td>\n",
        "      <td> 7.025210</td>\n",
        "      <td> 7.543667</td>\n",
        "      <td> 7.959781</td>\n",
        "      <td> 7.223323</td>\n",
        "      <td> 8.006816</td>\n",
        "      <td> 8.102504</td>\n",
        "      <td> 7.434617</td>\n",
        "      <td> 7.532321</td>\n",
        "      <td> 7.711461</td>\n",
        "      <td> 7.384572</td>\n",
        "      <td> 7.420333</td>\n",
        "      <td> 7.479774</td>\n",
        "      <td> 7.734789</td>\n",
        "      <td> 7.798197</td>\n",
        "      <td> 8.001434</td>\n",
        "      <td> 7.602829</td>\n",
        "      <td> 7.949683</td>\n",
        "      <td> 6.823513</td>\n",
        "      <td> 7.733133</td>\n",
        "      <td>...</td>\n",
        "    </tr>\n",
        "    <tr>\n",
        "      <th>1255_g_at</th>\n",
        "      <td> 3.597872</td>\n",
        "      <td> 3.108801</td>\n",
        "      <td> 3.128269</td>\n",
        "      <td> 3.364947</td>\n",
        "      <td> 3.125909</td>\n",
        "      <td> 3.186834</td>\n",
        "      <td> 3.311022</td>\n",
        "      <td> 3.092042</td>\n",
        "      <td> 3.167737</td>\n",
        "      <td> 2.969579</td>\n",
        "      <td> 3.195315</td>\n",
        "      <td> 3.133047</td>\n",
        "      <td> 3.213749</td>\n",
        "      <td> 3.087389</td>\n",
        "      <td> 3.174794</td>\n",
        "      <td> 3.149710</td>\n",
        "      <td> 3.293123</td>\n",
        "      <td> 3.195980</td>\n",
        "      <td> 2.963134</td>\n",
        "      <td> 3.435481</td>\n",
        "      <td>...</td>\n",
        "    </tr>\n",
        "  </tbody>\n",
        "</table>\n",
        "<p>5 rows \u00d7 208 columns</p>\n",
        "</div>"
       ],
       "metadata": {},
       "output_type": "pyout",
       "prompt_number": 497,
       "text": [
        "           GSM25581.CEL.gz  GSM25681.CEL.gz  GSM136524.CEL.gz  \\\n",
        "Gene name                                                       \n",
        "1007_s_at         6.333951         5.736190          6.156754   \n",
        "1053_at           7.255622         7.399993          7.491967   \n",
        "117_at            5.760106         4.825169          5.039387   \n",
        "121_at            6.935451         7.025210          7.543667   \n",
        "1255_g_at         3.597872         3.108801          3.128269   \n",
        "\n",
        "           GSM136707.CEL.gz  GSM25553.CEL.gz  GSM136676.CEL.gz  \\\n",
        "Gene name                                                        \n",
        "1007_s_at          6.513010         6.061013          6.506493   \n",
        "1053_at            7.006123         7.250995          7.082581   \n",
        "117_at             5.414160         5.205697          5.300078   \n",
        "121_at             7.959781         7.223323          8.006816   \n",
        "1255_g_at          3.364947         3.125909          3.186834   \n",
        "\n",
        "           GSM136711.CEL.gz  GSM136542.CEL.gz  GSM136535.CEL.gz  \\\n",
        "Gene name                                                         \n",
        "1007_s_at          6.863426          6.369645          6.646321   \n",
        "1053_at            6.842236          7.048487          7.042361   \n",
        "117_at             5.099337          5.156459          5.736109   \n",
        "121_at             8.102504          7.434617          7.532321   \n",
        "1255_g_at          3.311022          3.092042          3.167737   \n",
        "\n",
        "           GSM25399.CEL.gz  GSM25552.CEL.gz  GSM25542.CEL.gz  \\\n",
        "Gene name                                                      \n",
        "1007_s_at         5.810930         6.364868         6.486811   \n",
        "1053_at           6.666625         7.462191         6.371948   \n",
        "117_at            5.807496         5.147773         5.829625   \n",
        "121_at            7.711461         7.384572         7.420333   \n",
        "1255_g_at         2.969579         3.195315         3.133047   \n",
        "\n",
        "           GSM136544.CEL.gz  GSM25662.CEL.gz  GSM136563.CEL.gz  \\\n",
        "Gene name                                                        \n",
        "1007_s_at          6.398854         6.518133          6.639091   \n",
        "1053_at            7.490546         7.260461          7.028731   \n",
        "117_at             5.158053         5.336988          5.361298   \n",
        "121_at             7.479774         7.734789          7.798197   \n",
        "1255_g_at          3.213749         3.087389          3.174794   \n",
        "\n",
        "           GSM48663.CEL.gz  GSM136547.CEL.gz  GSM136710.CEL.gz  \\\n",
        "Gene name                                                        \n",
        "1007_s_at         5.981000          6.782794          6.452495   \n",
        "1053_at           7.120923          6.853129          7.211626   \n",
        "117_at            5.275577          5.252160          5.092673   \n",
        "121_at            8.001434          7.602829          7.949683   \n",
        "1255_g_at         3.149710          3.293123          3.195980   \n",
        "\n",
        "           GSM25660.CEL.gz  GSM136557.CEL.gz      \n",
        "Gene name                                         \n",
        "1007_s_at         6.028523          6.403664 ...  \n",
        "1053_at           7.513955          6.969475 ...  \n",
        "117_at            5.592048          5.641260 ...  \n",
        "121_at            6.823513          7.733133 ...  \n",
        "1255_g_at         2.963134          3.435481 ...  \n",
        "\n",
        "[5 rows x 208 columns]"
       ]
      }
     ],
     "prompt_number": 497
    },
    {
     "cell_type": "markdown",
     "metadata": {},
     "source": [
      "Make sure the order of the columns in the gene expression DataFrame match the order of file names in the sample annotation DataFrame. If the order of the columns the `exprs` DataFrame do not match the order of the file names in the `sampleinfo` DataFrame, reorder the columns in the `exprs` DataFrame. \n",
      "\n",
      "**Note**: The column names of the gene expression DataFrame are the filenames of the orignal files from which these data were obtained.  \n",
      "\n",
      "**Hint**: The method `list.index(x)` [[read here](https://docs.python.org/2/tutorial/datastructures.html)] can be used to return the index in the list of the first item whose value is x. It is an error if there is no such item. To check if the order of the columns in `exprs` matches the order of the rows in `sampleinfo`, you can check using the method `.all()` on a Boolean or list of Booleans: \n",
      "\n",
      "Example code: `(exprs.columns == sampleinfo.filename).all()`"
     ]
    },
    {
     "cell_type": "code",
     "collapsed": false,
     "input": [
      "#sets the columns of exprs to match the filenames in sampleinfo\n",
      "exprs = exprs[sampleinfo.filename]\n",
      "#checking answer\n",
      "(exprs.columns == sampleinfo.filename).all()"
     ],
     "language": "python",
     "metadata": {},
     "outputs": [
      {
       "metadata": {},
       "output_type": "pyout",
       "prompt_number": 41,
       "text": [
        "True"
       ]
      }
     ],
     "prompt_number": 41
    },
    {
     "cell_type": "markdown",
     "metadata": {},
     "source": [
      "Show the head of the two tables: `exprs` and `sampleinfo`. "
     ]
    },
    {
     "cell_type": "code",
     "collapsed": false,
     "input": [
      "exprs.head()"
     ],
     "language": "python",
     "metadata": {},
     "outputs": [
      {
       "html": [
        "<div style=\"max-height:1000px;max-width:1500px;overflow:auto;\">\n",
        "<table border=\"1\" class=\"dataframe\">\n",
        "  <thead>\n",
        "    <tr style=\"text-align: right;\">\n",
        "      <th></th>\n",
        "      <th>GSM25349.CEL.gz</th>\n",
        "      <th>GSM25350.CEL.gz</th>\n",
        "      <th>GSM25356.CEL.gz</th>\n",
        "      <th>GSM25357.CEL.gz</th>\n",
        "      <th>GSM25358.CEL.gz</th>\n",
        "      <th>GSM25359.CEL.gz</th>\n",
        "      <th>GSM25360.CEL.gz</th>\n",
        "      <th>GSM25361.CEL.gz</th>\n",
        "      <th>GSM25377.CEL.gz</th>\n",
        "      <th>GSM25378.CEL.gz</th>\n",
        "      <th>GSM25385.CEL.gz</th>\n",
        "      <th>GSM25386.CEL.gz</th>\n",
        "      <th>GSM25399.CEL.gz</th>\n",
        "      <th>GSM25400.CEL.gz</th>\n",
        "      <th>GSM25401.CEL.gz</th>\n",
        "      <th>GSM25402.CEL.gz</th>\n",
        "      <th>GSM25409.CEL.gz</th>\n",
        "      <th>GSM25410.CEL.gz</th>\n",
        "      <th>GSM25426.CEL.gz</th>\n",
        "      <th>GSM25427.CEL.gz</th>\n",
        "      <th></th>\n",
        "    </tr>\n",
        "    <tr>\n",
        "      <th>Gene name</th>\n",
        "      <th></th>\n",
        "      <th></th>\n",
        "      <th></th>\n",
        "      <th></th>\n",
        "      <th></th>\n",
        "      <th></th>\n",
        "      <th></th>\n",
        "      <th></th>\n",
        "      <th></th>\n",
        "      <th></th>\n",
        "      <th></th>\n",
        "      <th></th>\n",
        "      <th></th>\n",
        "      <th></th>\n",
        "      <th></th>\n",
        "      <th></th>\n",
        "      <th></th>\n",
        "      <th></th>\n",
        "      <th></th>\n",
        "      <th></th>\n",
        "    </tr>\n",
        "  </thead>\n",
        "  <tbody>\n",
        "    <tr>\n",
        "      <th>1007_s_at</th>\n",
        "      <td> 6.627014</td>\n",
        "      <td> 6.249807</td>\n",
        "      <td> 5.934128</td>\n",
        "      <td> 6.145268</td>\n",
        "      <td> 6.091270</td>\n",
        "      <td> 6.041186</td>\n",
        "      <td> 6.050375</td>\n",
        "      <td> 6.063847</td>\n",
        "      <td> 6.226106</td>\n",
        "      <td> 6.358282</td>\n",
        "      <td> 6.441452</td>\n",
        "      <td> 6.249228</td>\n",
        "      <td> 5.810930</td>\n",
        "      <td> 6.084216</td>\n",
        "      <td> 6.139850</td>\n",
        "      <td> 5.678862</td>\n",
        "      <td> 6.654776</td>\n",
        "      <td> 6.761052</td>\n",
        "      <td> 6.356741</td>\n",
        "      <td> 6.122355</td>\n",
        "      <td>...</td>\n",
        "    </tr>\n",
        "    <tr>\n",
        "      <th>1053_at</th>\n",
        "      <td> 6.939184</td>\n",
        "      <td> 6.818038</td>\n",
        "      <td> 7.047962</td>\n",
        "      <td> 7.422477</td>\n",
        "      <td> 7.272361</td>\n",
        "      <td> 7.128216</td>\n",
        "      <td> 6.750719</td>\n",
        "      <td> 6.836287</td>\n",
        "      <td> 6.738022</td>\n",
        "      <td> 7.367895</td>\n",
        "      <td> 7.081977</td>\n",
        "      <td> 6.551968</td>\n",
        "      <td> 6.666625</td>\n",
        "      <td> 7.241152</td>\n",
        "      <td> 6.968081</td>\n",
        "      <td> 7.140206</td>\n",
        "      <td> 6.406173</td>\n",
        "      <td> 7.289983</td>\n",
        "      <td> 7.167493</td>\n",
        "      <td> 7.168782</td>\n",
        "      <td>...</td>\n",
        "    </tr>\n",
        "    <tr>\n",
        "      <th>117_at</th>\n",
        "      <td> 5.113570</td>\n",
        "      <td> 5.074096</td>\n",
        "      <td> 5.371201</td>\n",
        "      <td> 5.266550</td>\n",
        "      <td> 5.342047</td>\n",
        "      <td> 5.063876</td>\n",
        "      <td> 5.315898</td>\n",
        "      <td> 5.483652</td>\n",
        "      <td> 6.689444</td>\n",
        "      <td> 6.482782</td>\n",
        "      <td> 5.767831</td>\n",
        "      <td> 5.570464</td>\n",
        "      <td> 5.807496</td>\n",
        "      <td> 5.944780</td>\n",
        "      <td> 6.038395</td>\n",
        "      <td> 5.778091</td>\n",
        "      <td> 5.583928</td>\n",
        "      <td> 5.688603</td>\n",
        "      <td> 5.323266</td>\n",
        "      <td> 5.409720</td>\n",
        "      <td>...</td>\n",
        "    </tr>\n",
        "    <tr>\n",
        "      <th>121_at</th>\n",
        "      <td> 7.833862</td>\n",
        "      <td> 7.780682</td>\n",
        "      <td> 7.458197</td>\n",
        "      <td> 7.655948</td>\n",
        "      <td> 7.546555</td>\n",
        "      <td> 7.072670</td>\n",
        "      <td> 7.092984</td>\n",
        "      <td> 6.954225</td>\n",
        "      <td> 7.489785</td>\n",
        "      <td> 7.388539</td>\n",
        "      <td> 7.156191</td>\n",
        "      <td> 7.514597</td>\n",
        "      <td> 7.711461</td>\n",
        "      <td> 7.211886</td>\n",
        "      <td> 8.205522</td>\n",
        "      <td> 7.636212</td>\n",
        "      <td> 7.367773</td>\n",
        "      <td> 7.527891</td>\n",
        "      <td> 7.711821</td>\n",
        "      <td> 7.432338</td>\n",
        "      <td>...</td>\n",
        "    </tr>\n",
        "    <tr>\n",
        "      <th>1255_g_at</th>\n",
        "      <td> 3.152269</td>\n",
        "      <td> 3.111747</td>\n",
        "      <td> 3.018932</td>\n",
        "      <td> 3.154545</td>\n",
        "      <td> 3.107954</td>\n",
        "      <td> 3.224284</td>\n",
        "      <td> 3.114241</td>\n",
        "      <td> 3.044975</td>\n",
        "      <td> 3.304038</td>\n",
        "      <td> 2.887919</td>\n",
        "      <td> 2.914396</td>\n",
        "      <td> 3.132311</td>\n",
        "      <td> 2.969579</td>\n",
        "      <td> 2.923335</td>\n",
        "      <td> 3.178315</td>\n",
        "      <td> 3.030377</td>\n",
        "      <td> 3.342999</td>\n",
        "      <td> 3.321200</td>\n",
        "      <td> 3.191944</td>\n",
        "      <td> 3.250600</td>\n",
        "      <td>...</td>\n",
        "    </tr>\n",
        "  </tbody>\n",
        "</table>\n",
        "<p>5 rows \u00d7 208 columns</p>\n",
        "</div>"
       ],
       "metadata": {},
       "output_type": "pyout",
       "prompt_number": 5,
       "text": [
        "           GSM25349.CEL.gz  GSM25350.CEL.gz  GSM25356.CEL.gz  GSM25357.CEL.gz  \\\n",
        "Gene name                                                                       \n",
        "1007_s_at         6.627014         6.249807         5.934128         6.145268   \n",
        "1053_at           6.939184         6.818038         7.047962         7.422477   \n",
        "117_at            5.113570         5.074096         5.371201         5.266550   \n",
        "121_at            7.833862         7.780682         7.458197         7.655948   \n",
        "1255_g_at         3.152269         3.111747         3.018932         3.154545   \n",
        "\n",
        "           GSM25358.CEL.gz  GSM25359.CEL.gz  GSM25360.CEL.gz  GSM25361.CEL.gz  \\\n",
        "Gene name                                                                       \n",
        "1007_s_at         6.091270         6.041186         6.050375         6.063847   \n",
        "1053_at           7.272361         7.128216         6.750719         6.836287   \n",
        "117_at            5.342047         5.063876         5.315898         5.483652   \n",
        "121_at            7.546555         7.072670         7.092984         6.954225   \n",
        "1255_g_at         3.107954         3.224284         3.114241         3.044975   \n",
        "\n",
        "           GSM25377.CEL.gz  GSM25378.CEL.gz  GSM25385.CEL.gz  GSM25386.CEL.gz  \\\n",
        "Gene name                                                                       \n",
        "1007_s_at         6.226106         6.358282         6.441452         6.249228   \n",
        "1053_at           6.738022         7.367895         7.081977         6.551968   \n",
        "117_at            6.689444         6.482782         5.767831         5.570464   \n",
        "121_at            7.489785         7.388539         7.156191         7.514597   \n",
        "1255_g_at         3.304038         2.887919         2.914396         3.132311   \n",
        "\n",
        "           GSM25399.CEL.gz  GSM25400.CEL.gz  GSM25401.CEL.gz  GSM25402.CEL.gz  \\\n",
        "Gene name                                                                       \n",
        "1007_s_at         5.810930         6.084216         6.139850         5.678862   \n",
        "1053_at           6.666625         7.241152         6.968081         7.140206   \n",
        "117_at            5.807496         5.944780         6.038395         5.778091   \n",
        "121_at            7.711461         7.211886         8.205522         7.636212   \n",
        "1255_g_at         2.969579         2.923335         3.178315         3.030377   \n",
        "\n",
        "           GSM25409.CEL.gz  GSM25410.CEL.gz  GSM25426.CEL.gz  GSM25427.CEL.gz  \\\n",
        "Gene name                                                                       \n",
        "1007_s_at         6.654776         6.761052         6.356741         6.122355   \n",
        "1053_at           6.406173         7.289983         7.167493         7.168782   \n",
        "117_at            5.583928         5.688603         5.323266         5.409720   \n",
        "121_at            7.367773         7.527891         7.711821         7.432338   \n",
        "1255_g_at         3.342999         3.321200         3.191944         3.250600   \n",
        "\n",
        "               \n",
        "Gene name      \n",
        "1007_s_at ...  \n",
        "1053_at   ...  \n",
        "117_at    ...  \n",
        "121_at    ...  \n",
        "1255_g_at ...  \n",
        "\n",
        "[5 rows x 208 columns]"
       ]
      }
     ],
     "prompt_number": 5
    },
    {
     "cell_type": "code",
     "collapsed": false,
     "input": [
      "sampleinfo.head()"
     ],
     "language": "python",
     "metadata": {},
     "outputs": [
      {
       "html": [
        "<div style=\"max-height:1000px;max-width:1500px;overflow:auto;\">\n",
        "<table border=\"1\" class=\"dataframe\">\n",
        "  <thead>\n",
        "    <tr style=\"text-align: right;\">\n",
        "      <th></th>\n",
        "      <th>ethnicity</th>\n",
        "      <th>date</th>\n",
        "      <th>filename</th>\n",
        "      <th>sex</th>\n",
        "      <th>month</th>\n",
        "      <th>day</th>\n",
        "      <th>elapsedInDays</th>\n",
        "    </tr>\n",
        "  </thead>\n",
        "  <tbody>\n",
        "    <tr>\n",
        "      <th>0</th>\n",
        "      <td> CEU</td>\n",
        "      <td>2003-02-04</td>\n",
        "      <td> GSM25349.CEL.gz</td>\n",
        "      <td> M</td>\n",
        "      <td>  2</td>\n",
        "      <td>  4</td>\n",
        "      <td> 96</td>\n",
        "    </tr>\n",
        "    <tr>\n",
        "      <th>1</th>\n",
        "      <td> CEU</td>\n",
        "      <td>2003-02-04</td>\n",
        "      <td> GSM25350.CEL.gz</td>\n",
        "      <td> M</td>\n",
        "      <td>  2</td>\n",
        "      <td>  4</td>\n",
        "      <td> 96</td>\n",
        "    </tr>\n",
        "    <tr>\n",
        "      <th>2</th>\n",
        "      <td> CEU</td>\n",
        "      <td>2002-12-17</td>\n",
        "      <td> GSM25356.CEL.gz</td>\n",
        "      <td> M</td>\n",
        "      <td> 12</td>\n",
        "      <td> 17</td>\n",
        "      <td> 47</td>\n",
        "    </tr>\n",
        "    <tr>\n",
        "      <th>3</th>\n",
        "      <td> CEU</td>\n",
        "      <td>2003-01-30</td>\n",
        "      <td> GSM25357.CEL.gz</td>\n",
        "      <td> M</td>\n",
        "      <td>  1</td>\n",
        "      <td> 30</td>\n",
        "      <td> 91</td>\n",
        "    </tr>\n",
        "    <tr>\n",
        "      <th>4</th>\n",
        "      <td> CEU</td>\n",
        "      <td>2003-01-03</td>\n",
        "      <td> GSM25358.CEL.gz</td>\n",
        "      <td> M</td>\n",
        "      <td>  1</td>\n",
        "      <td>  3</td>\n",
        "      <td> 64</td>\n",
        "    </tr>\n",
        "  </tbody>\n",
        "</table>\n",
        "<p>5 rows \u00d7 7 columns</p>\n",
        "</div>"
       ],
       "metadata": {},
       "output_type": "pyout",
       "prompt_number": 503,
       "text": [
        "  ethnicity       date         filename sex  month  day  elapsedInDays\n",
        "0       CEU 2003-02-04  GSM25349.CEL.gz   M      2    4             96\n",
        "1       CEU 2003-02-04  GSM25350.CEL.gz   M      2    4             96\n",
        "2       CEU 2002-12-17  GSM25356.CEL.gz   M     12   17             47\n",
        "3       CEU 2003-01-30  GSM25357.CEL.gz   M      1   30             91\n",
        "4       CEU 2003-01-03  GSM25358.CEL.gz   M      1    3             64\n",
        "\n",
        "[5 rows x 7 columns]"
       ]
      }
     ],
     "prompt_number": 503
    },
    {
     "cell_type": "markdown",
     "metadata": {},
     "source": [
      "#### Problem 1(b)\n",
      "\n",
      "Extract the year and month as integers from the `sampleinfo` table. \n",
      "\n",
      "**Hint**: To convert a Series or a column of a pandas DataFrame that contains a date-like object, you can use the `to_datetime` function [[read here](http://pandas.pydata.org/pandas-docs/stable/timeseries.html)].  This will create a `DatetimeIndex` which can be used to extract the month and year for each row in the DataFrame. "
     ]
    },
    {
     "cell_type": "code",
     "collapsed": false,
     "input": [
      "#turns date into datetime object\n",
      "sampleinfo[\"date\"]=pd.to_datetime(sampleinfo[\"date\"])\n",
      "sampleinfo[\"month\"]=0\n",
      "sampleinfo[\"day\"]=0\n",
      "#pulls month and day data from dataframe\n",
      "for x in range(0,len(sampleinfo.index)-1):\n",
      "    sampleinfo[\"month\"][x]=sampleinfo[\"date\"][x].month\n",
      "    sampleinfo[\"day\"][x]=sampleinfo[\"date\"][x].day\n",
      "    \n",
      "sampleinfo.head()\n"
     ],
     "language": "python",
     "metadata": {},
     "outputs": [
      {
       "html": [
        "<div style=\"max-height:1000px;max-width:1500px;overflow:auto;\">\n",
        "<table border=\"1\" class=\"dataframe\">\n",
        "  <thead>\n",
        "    <tr style=\"text-align: right;\">\n",
        "      <th></th>\n",
        "      <th>ethnicity</th>\n",
        "      <th>date</th>\n",
        "      <th>filename</th>\n",
        "      <th>sex</th>\n",
        "      <th>month</th>\n",
        "      <th>day</th>\n",
        "      <th>elapsedInDays</th>\n",
        "    </tr>\n",
        "  </thead>\n",
        "  <tbody>\n",
        "    <tr>\n",
        "      <th>0</th>\n",
        "      <td> CEU</td>\n",
        "      <td>2003-02-04</td>\n",
        "      <td> GSM25349.CEL.gz</td>\n",
        "      <td> M</td>\n",
        "      <td>  2</td>\n",
        "      <td>  4</td>\n",
        "      <td> 96</td>\n",
        "    </tr>\n",
        "    <tr>\n",
        "      <th>1</th>\n",
        "      <td> CEU</td>\n",
        "      <td>2003-02-04</td>\n",
        "      <td> GSM25350.CEL.gz</td>\n",
        "      <td> M</td>\n",
        "      <td>  2</td>\n",
        "      <td>  4</td>\n",
        "      <td> 96</td>\n",
        "    </tr>\n",
        "    <tr>\n",
        "      <th>2</th>\n",
        "      <td> CEU</td>\n",
        "      <td>2002-12-17</td>\n",
        "      <td> GSM25356.CEL.gz</td>\n",
        "      <td> M</td>\n",
        "      <td> 12</td>\n",
        "      <td> 17</td>\n",
        "      <td> 47</td>\n",
        "    </tr>\n",
        "    <tr>\n",
        "      <th>3</th>\n",
        "      <td> CEU</td>\n",
        "      <td>2003-01-30</td>\n",
        "      <td> GSM25357.CEL.gz</td>\n",
        "      <td> M</td>\n",
        "      <td>  1</td>\n",
        "      <td> 30</td>\n",
        "      <td> 91</td>\n",
        "    </tr>\n",
        "    <tr>\n",
        "      <th>4</th>\n",
        "      <td> CEU</td>\n",
        "      <td>2003-01-03</td>\n",
        "      <td> GSM25358.CEL.gz</td>\n",
        "      <td> M</td>\n",
        "      <td>  1</td>\n",
        "      <td>  3</td>\n",
        "      <td> 64</td>\n",
        "    </tr>\n",
        "  </tbody>\n",
        "</table>\n",
        "<p>5 rows \u00d7 7 columns</p>\n",
        "</div>"
       ],
       "metadata": {},
       "output_type": "pyout",
       "prompt_number": 504,
       "text": [
        "  ethnicity       date         filename sex  month  day  elapsedInDays\n",
        "0       CEU 2003-02-04  GSM25349.CEL.gz   M      2    4             96\n",
        "1       CEU 2003-02-04  GSM25350.CEL.gz   M      2    4             96\n",
        "2       CEU 2002-12-17  GSM25356.CEL.gz   M     12   17             47\n",
        "3       CEU 2003-01-30  GSM25357.CEL.gz   M      1   30             91\n",
        "4       CEU 2003-01-03  GSM25358.CEL.gz   M      1    3             64\n",
        "\n",
        "[5 rows x 7 columns]"
       ]
      }
     ],
     "prompt_number": 504
    },
    {
     "cell_type": "markdown",
     "metadata": {},
     "source": [
      "#### Problem 1(c)\n",
      "\n",
      "Convert the dates in the `date` column from the `sampleinfo` table into days since October 31, 2002. Add a column to the `sampleinfo` DataFrame titled `elapsedInDays` containing the days since October 31, 2002.  Show the head of the `sampleinfo` DataFrame which includes the new column.  \n",
      "\n",
      "**Hint**: Use the `datetime` module to create a new `datetime` object for the specific date October 31, 2002. Then, subtract the October 31, 2002 date from each date from the `date` column in the `sampleinfo` DataFrame. "
     ]
    },
    {
     "cell_type": "code",
     "collapsed": false,
     "input": [
      "#creates elapsed in days column\n",
      "sampleinfo[\"elapsedInDays\"]=(sampleinfo[\"date\"]-pd.to_datetime(\"2002-10-31\")).astype(\"timedelta64[D]\")\n",
      "sampleinfo.head(10)"
     ],
     "language": "python",
     "metadata": {},
     "outputs": [
      {
       "html": [
        "<div style=\"max-height:1000px;max-width:1500px;overflow:auto;\">\n",
        "<table border=\"1\" class=\"dataframe\">\n",
        "  <thead>\n",
        "    <tr style=\"text-align: right;\">\n",
        "      <th></th>\n",
        "      <th>ethnicity</th>\n",
        "      <th>date</th>\n",
        "      <th>filename</th>\n",
        "      <th>sex</th>\n",
        "      <th>month</th>\n",
        "      <th>day</th>\n",
        "      <th>elapsedInDays</th>\n",
        "    </tr>\n",
        "  </thead>\n",
        "  <tbody>\n",
        "    <tr>\n",
        "      <th>0</th>\n",
        "      <td> CEU</td>\n",
        "      <td>2003-02-04</td>\n",
        "      <td> GSM25349.CEL.gz</td>\n",
        "      <td> M</td>\n",
        "      <td>  2</td>\n",
        "      <td>  4</td>\n",
        "      <td> 96</td>\n",
        "    </tr>\n",
        "    <tr>\n",
        "      <th>1</th>\n",
        "      <td> CEU</td>\n",
        "      <td>2003-02-04</td>\n",
        "      <td> GSM25350.CEL.gz</td>\n",
        "      <td> M</td>\n",
        "      <td>  2</td>\n",
        "      <td>  4</td>\n",
        "      <td> 96</td>\n",
        "    </tr>\n",
        "    <tr>\n",
        "      <th>2</th>\n",
        "      <td> CEU</td>\n",
        "      <td>2002-12-17</td>\n",
        "      <td> GSM25356.CEL.gz</td>\n",
        "      <td> M</td>\n",
        "      <td> 12</td>\n",
        "      <td> 17</td>\n",
        "      <td> 47</td>\n",
        "    </tr>\n",
        "    <tr>\n",
        "      <th>3</th>\n",
        "      <td> CEU</td>\n",
        "      <td>2003-01-30</td>\n",
        "      <td> GSM25357.CEL.gz</td>\n",
        "      <td> M</td>\n",
        "      <td>  1</td>\n",
        "      <td> 30</td>\n",
        "      <td> 91</td>\n",
        "    </tr>\n",
        "    <tr>\n",
        "      <th>4</th>\n",
        "      <td> CEU</td>\n",
        "      <td>2003-01-03</td>\n",
        "      <td> GSM25358.CEL.gz</td>\n",
        "      <td> M</td>\n",
        "      <td>  1</td>\n",
        "      <td>  3</td>\n",
        "      <td> 64</td>\n",
        "    </tr>\n",
        "    <tr>\n",
        "      <th>5</th>\n",
        "      <td> CEU</td>\n",
        "      <td>2003-01-16</td>\n",
        "      <td> GSM25359.CEL.gz</td>\n",
        "      <td> M</td>\n",
        "      <td>  1</td>\n",
        "      <td> 16</td>\n",
        "      <td> 77</td>\n",
        "    </tr>\n",
        "    <tr>\n",
        "      <th>6</th>\n",
        "      <td> CEU</td>\n",
        "      <td>2003-01-03</td>\n",
        "      <td> GSM25360.CEL.gz</td>\n",
        "      <td> F</td>\n",
        "      <td>  1</td>\n",
        "      <td>  3</td>\n",
        "      <td> 64</td>\n",
        "    </tr>\n",
        "    <tr>\n",
        "      <th>7</th>\n",
        "      <td> CEU</td>\n",
        "      <td>2003-02-04</td>\n",
        "      <td> GSM25361.CEL.gz</td>\n",
        "      <td> M</td>\n",
        "      <td>  2</td>\n",
        "      <td>  4</td>\n",
        "      <td> 96</td>\n",
        "    </tr>\n",
        "    <tr>\n",
        "      <th>8</th>\n",
        "      <td> CEU</td>\n",
        "      <td>2002-12-17</td>\n",
        "      <td> GSM25377.CEL.gz</td>\n",
        "      <td> M</td>\n",
        "      <td> 12</td>\n",
        "      <td> 17</td>\n",
        "      <td> 47</td>\n",
        "    </tr>\n",
        "    <tr>\n",
        "      <th>9</th>\n",
        "      <td> CEU</td>\n",
        "      <td>2002-12-17</td>\n",
        "      <td> GSM25378.CEL.gz</td>\n",
        "      <td> M</td>\n",
        "      <td> 12</td>\n",
        "      <td> 17</td>\n",
        "      <td> 47</td>\n",
        "    </tr>\n",
        "  </tbody>\n",
        "</table>\n",
        "<p>10 rows \u00d7 7 columns</p>\n",
        "</div>"
       ],
       "metadata": {},
       "output_type": "pyout",
       "prompt_number": 499,
       "text": [
        "  ethnicity       date         filename sex  month  day  elapsedInDays\n",
        "0       CEU 2003-02-04  GSM25349.CEL.gz   M      2    4             96\n",
        "1       CEU 2003-02-04  GSM25350.CEL.gz   M      2    4             96\n",
        "2       CEU 2002-12-17  GSM25356.CEL.gz   M     12   17             47\n",
        "3       CEU 2003-01-30  GSM25357.CEL.gz   M      1   30             91\n",
        "4       CEU 2003-01-03  GSM25358.CEL.gz   M      1    3             64\n",
        "5       CEU 2003-01-16  GSM25359.CEL.gz   M      1   16             77\n",
        "6       CEU 2003-01-03  GSM25360.CEL.gz   F      1    3             64\n",
        "7       CEU 2003-02-04  GSM25361.CEL.gz   M      2    4             96\n",
        "8       CEU 2002-12-17  GSM25377.CEL.gz   M     12   17             47\n",
        "9       CEU 2002-12-17  GSM25378.CEL.gz   M     12   17             47\n",
        "\n",
        "[10 rows x 7 columns]"
       ]
      }
     ],
     "prompt_number": 499
    },
    {
     "cell_type": "markdown",
     "metadata": {},
     "source": [
      "#### Problem 1(d)\n",
      "\n",
      "Use exploratory analysis and the singular value decomposition (SVD) of the gene expression data matrix to determine if the date the samples were processed has large effect on the variability seen in the data or if it is just ethnicity (which is confounded with date). \n",
      "\n",
      "**Hint**: See the end of the [lecture from 9/23/2014 for help with SVD](http://nbviewer.ipython.org/github/cs109/2014/blob/master/lectures/lecture07/data_scraping_transcript.ipynb). \n",
      "\n",
      "First subset the the `sampleinfo` DataFrame to include only the CEU ethnicity.  Call this new subsetted DataFrame `sampleinfoCEU`.  Show the head of `sampleinfoCEU` DataFrame. "
     ]
    },
    {
     "cell_type": "code",
     "collapsed": false,
     "input": [
      "#Subsets to only CEU\n",
      "sampleinfoCEU = sampleinfo[sampleinfo[\"ethnicity\"]==\"CEU\"]\n",
      "sampleinfoCEU.head()"
     ],
     "language": "python",
     "metadata": {},
     "outputs": [
      {
       "html": [
        "<div style=\"max-height:1000px;max-width:1500px;overflow:auto;\">\n",
        "<table border=\"1\" class=\"dataframe\">\n",
        "  <thead>\n",
        "    <tr style=\"text-align: right;\">\n",
        "      <th></th>\n",
        "      <th>ethnicity</th>\n",
        "      <th>date</th>\n",
        "      <th>filename</th>\n",
        "      <th>sex</th>\n",
        "      <th>month</th>\n",
        "      <th>day</th>\n",
        "      <th>elapsedInDays</th>\n",
        "    </tr>\n",
        "  </thead>\n",
        "  <tbody>\n",
        "    <tr>\n",
        "      <th>0</th>\n",
        "      <td> CEU</td>\n",
        "      <td>2003-02-04</td>\n",
        "      <td> GSM25349.CEL.gz</td>\n",
        "      <td> M</td>\n",
        "      <td>  2</td>\n",
        "      <td>  4</td>\n",
        "      <td> 96</td>\n",
        "    </tr>\n",
        "    <tr>\n",
        "      <th>1</th>\n",
        "      <td> CEU</td>\n",
        "      <td>2003-02-04</td>\n",
        "      <td> GSM25350.CEL.gz</td>\n",
        "      <td> M</td>\n",
        "      <td>  2</td>\n",
        "      <td>  4</td>\n",
        "      <td> 96</td>\n",
        "    </tr>\n",
        "    <tr>\n",
        "      <th>2</th>\n",
        "      <td> CEU</td>\n",
        "      <td>2002-12-17</td>\n",
        "      <td> GSM25356.CEL.gz</td>\n",
        "      <td> M</td>\n",
        "      <td> 12</td>\n",
        "      <td> 17</td>\n",
        "      <td> 47</td>\n",
        "    </tr>\n",
        "    <tr>\n",
        "      <th>3</th>\n",
        "      <td> CEU</td>\n",
        "      <td>2003-01-30</td>\n",
        "      <td> GSM25357.CEL.gz</td>\n",
        "      <td> M</td>\n",
        "      <td>  1</td>\n",
        "      <td> 30</td>\n",
        "      <td> 91</td>\n",
        "    </tr>\n",
        "    <tr>\n",
        "      <th>4</th>\n",
        "      <td> CEU</td>\n",
        "      <td>2003-01-03</td>\n",
        "      <td> GSM25358.CEL.gz</td>\n",
        "      <td> M</td>\n",
        "      <td>  1</td>\n",
        "      <td>  3</td>\n",
        "      <td> 64</td>\n",
        "    </tr>\n",
        "  </tbody>\n",
        "</table>\n",
        "<p>5 rows \u00d7 7 columns</p>\n",
        "</div>"
       ],
       "metadata": {},
       "output_type": "pyout",
       "prompt_number": 385,
       "text": [
        "  ethnicity       date         filename sex  month  day  elapsedInDays\n",
        "0       CEU 2003-02-04  GSM25349.CEL.gz   M      2    4             96\n",
        "1       CEU 2003-02-04  GSM25350.CEL.gz   M      2    4             96\n",
        "2       CEU 2002-12-17  GSM25356.CEL.gz   M     12   17             47\n",
        "3       CEU 2003-01-30  GSM25357.CEL.gz   M      1   30             91\n",
        "4       CEU 2003-01-03  GSM25358.CEL.gz   M      1    3             64\n",
        "\n",
        "[5 rows x 7 columns]"
       ]
      }
     ],
     "prompt_number": 385
    },
    {
     "cell_type": "markdown",
     "metadata": {},
     "source": [
      "Next, subset the `exprs` DataFrame to only include the samples with the CEU ethnicity. Name this new subsetted DataFrame `exprsCEU`. Show the head of the `exprsCEU` DataFrame. "
     ]
    },
    {
     "cell_type": "code",
     "collapsed": false,
     "input": [
      "#subsets to only CEU using result from question above\n",
      "exprsCEU = exprs[sampleinfoCEU.filename]\n",
      "exprsCEU.head()"
     ],
     "language": "python",
     "metadata": {},
     "outputs": [
      {
       "html": [
        "<div style=\"max-height:1000px;max-width:1500px;overflow:auto;\">\n",
        "<table border=\"1\" class=\"dataframe\">\n",
        "  <thead>\n",
        "    <tr style=\"text-align: right;\">\n",
        "      <th></th>\n",
        "      <th>GSM25349.CEL.gz</th>\n",
        "      <th>GSM25350.CEL.gz</th>\n",
        "      <th>GSM25356.CEL.gz</th>\n",
        "      <th>GSM25357.CEL.gz</th>\n",
        "      <th>GSM25358.CEL.gz</th>\n",
        "      <th>GSM25359.CEL.gz</th>\n",
        "      <th>GSM25360.CEL.gz</th>\n",
        "      <th>GSM25361.CEL.gz</th>\n",
        "      <th>GSM25377.CEL.gz</th>\n",
        "      <th>GSM25378.CEL.gz</th>\n",
        "      <th>GSM25385.CEL.gz</th>\n",
        "      <th>GSM25386.CEL.gz</th>\n",
        "      <th>GSM25399.CEL.gz</th>\n",
        "      <th>GSM25400.CEL.gz</th>\n",
        "      <th>GSM25401.CEL.gz</th>\n",
        "      <th>GSM25402.CEL.gz</th>\n",
        "      <th>GSM25409.CEL.gz</th>\n",
        "      <th>GSM25410.CEL.gz</th>\n",
        "      <th>GSM25426.CEL.gz</th>\n",
        "      <th>GSM25427.CEL.gz</th>\n",
        "      <th></th>\n",
        "    </tr>\n",
        "    <tr>\n",
        "      <th>Gene name</th>\n",
        "      <th></th>\n",
        "      <th></th>\n",
        "      <th></th>\n",
        "      <th></th>\n",
        "      <th></th>\n",
        "      <th></th>\n",
        "      <th></th>\n",
        "      <th></th>\n",
        "      <th></th>\n",
        "      <th></th>\n",
        "      <th></th>\n",
        "      <th></th>\n",
        "      <th></th>\n",
        "      <th></th>\n",
        "      <th></th>\n",
        "      <th></th>\n",
        "      <th></th>\n",
        "      <th></th>\n",
        "      <th></th>\n",
        "      <th></th>\n",
        "    </tr>\n",
        "  </thead>\n",
        "  <tbody>\n",
        "    <tr>\n",
        "      <th>1007_s_at</th>\n",
        "      <td> 6.627014</td>\n",
        "      <td> 6.249807</td>\n",
        "      <td> 5.934128</td>\n",
        "      <td> 6.145268</td>\n",
        "      <td> 6.091270</td>\n",
        "      <td> 6.041186</td>\n",
        "      <td> 6.050375</td>\n",
        "      <td> 6.063847</td>\n",
        "      <td> 6.226106</td>\n",
        "      <td> 6.358282</td>\n",
        "      <td> 6.441452</td>\n",
        "      <td> 6.249228</td>\n",
        "      <td> 5.810930</td>\n",
        "      <td> 6.084216</td>\n",
        "      <td> 6.139850</td>\n",
        "      <td> 5.678862</td>\n",
        "      <td> 6.654776</td>\n",
        "      <td> 6.761052</td>\n",
        "      <td> 6.356741</td>\n",
        "      <td> 6.122355</td>\n",
        "      <td>...</td>\n",
        "    </tr>\n",
        "    <tr>\n",
        "      <th>1053_at</th>\n",
        "      <td> 6.939184</td>\n",
        "      <td> 6.818038</td>\n",
        "      <td> 7.047962</td>\n",
        "      <td> 7.422477</td>\n",
        "      <td> 7.272361</td>\n",
        "      <td> 7.128216</td>\n",
        "      <td> 6.750719</td>\n",
        "      <td> 6.836287</td>\n",
        "      <td> 6.738022</td>\n",
        "      <td> 7.367895</td>\n",
        "      <td> 7.081977</td>\n",
        "      <td> 6.551968</td>\n",
        "      <td> 6.666625</td>\n",
        "      <td> 7.241152</td>\n",
        "      <td> 6.968081</td>\n",
        "      <td> 7.140206</td>\n",
        "      <td> 6.406173</td>\n",
        "      <td> 7.289983</td>\n",
        "      <td> 7.167493</td>\n",
        "      <td> 7.168782</td>\n",
        "      <td>...</td>\n",
        "    </tr>\n",
        "    <tr>\n",
        "      <th>117_at</th>\n",
        "      <td> 5.113570</td>\n",
        "      <td> 5.074096</td>\n",
        "      <td> 5.371201</td>\n",
        "      <td> 5.266550</td>\n",
        "      <td> 5.342047</td>\n",
        "      <td> 5.063876</td>\n",
        "      <td> 5.315898</td>\n",
        "      <td> 5.483652</td>\n",
        "      <td> 6.689444</td>\n",
        "      <td> 6.482782</td>\n",
        "      <td> 5.767831</td>\n",
        "      <td> 5.570464</td>\n",
        "      <td> 5.807496</td>\n",
        "      <td> 5.944780</td>\n",
        "      <td> 6.038395</td>\n",
        "      <td> 5.778091</td>\n",
        "      <td> 5.583928</td>\n",
        "      <td> 5.688603</td>\n",
        "      <td> 5.323266</td>\n",
        "      <td> 5.409720</td>\n",
        "      <td>...</td>\n",
        "    </tr>\n",
        "    <tr>\n",
        "      <th>121_at</th>\n",
        "      <td> 7.833862</td>\n",
        "      <td> 7.780682</td>\n",
        "      <td> 7.458197</td>\n",
        "      <td> 7.655948</td>\n",
        "      <td> 7.546555</td>\n",
        "      <td> 7.072670</td>\n",
        "      <td> 7.092984</td>\n",
        "      <td> 6.954225</td>\n",
        "      <td> 7.489785</td>\n",
        "      <td> 7.388539</td>\n",
        "      <td> 7.156191</td>\n",
        "      <td> 7.514597</td>\n",
        "      <td> 7.711461</td>\n",
        "      <td> 7.211886</td>\n",
        "      <td> 8.205522</td>\n",
        "      <td> 7.636212</td>\n",
        "      <td> 7.367773</td>\n",
        "      <td> 7.527891</td>\n",
        "      <td> 7.711821</td>\n",
        "      <td> 7.432338</td>\n",
        "      <td>...</td>\n",
        "    </tr>\n",
        "    <tr>\n",
        "      <th>1255_g_at</th>\n",
        "      <td> 3.152269</td>\n",
        "      <td> 3.111747</td>\n",
        "      <td> 3.018932</td>\n",
        "      <td> 3.154545</td>\n",
        "      <td> 3.107954</td>\n",
        "      <td> 3.224284</td>\n",
        "      <td> 3.114241</td>\n",
        "      <td> 3.044975</td>\n",
        "      <td> 3.304038</td>\n",
        "      <td> 2.887919</td>\n",
        "      <td> 2.914396</td>\n",
        "      <td> 3.132311</td>\n",
        "      <td> 2.969579</td>\n",
        "      <td> 2.923335</td>\n",
        "      <td> 3.178315</td>\n",
        "      <td> 3.030377</td>\n",
        "      <td> 3.342999</td>\n",
        "      <td> 3.321200</td>\n",
        "      <td> 3.191944</td>\n",
        "      <td> 3.250600</td>\n",
        "      <td>...</td>\n",
        "    </tr>\n",
        "  </tbody>\n",
        "</table>\n",
        "<p>5 rows \u00d7 102 columns</p>\n",
        "</div>"
       ],
       "metadata": {},
       "output_type": "pyout",
       "prompt_number": 387,
       "text": [
        "           GSM25349.CEL.gz  GSM25350.CEL.gz  GSM25356.CEL.gz  GSM25357.CEL.gz  \\\n",
        "Gene name                                                                       \n",
        "1007_s_at         6.627014         6.249807         5.934128         6.145268   \n",
        "1053_at           6.939184         6.818038         7.047962         7.422477   \n",
        "117_at            5.113570         5.074096         5.371201         5.266550   \n",
        "121_at            7.833862         7.780682         7.458197         7.655948   \n",
        "1255_g_at         3.152269         3.111747         3.018932         3.154545   \n",
        "\n",
        "           GSM25358.CEL.gz  GSM25359.CEL.gz  GSM25360.CEL.gz  GSM25361.CEL.gz  \\\n",
        "Gene name                                                                       \n",
        "1007_s_at         6.091270         6.041186         6.050375         6.063847   \n",
        "1053_at           7.272361         7.128216         6.750719         6.836287   \n",
        "117_at            5.342047         5.063876         5.315898         5.483652   \n",
        "121_at            7.546555         7.072670         7.092984         6.954225   \n",
        "1255_g_at         3.107954         3.224284         3.114241         3.044975   \n",
        "\n",
        "           GSM25377.CEL.gz  GSM25378.CEL.gz  GSM25385.CEL.gz  GSM25386.CEL.gz  \\\n",
        "Gene name                                                                       \n",
        "1007_s_at         6.226106         6.358282         6.441452         6.249228   \n",
        "1053_at           6.738022         7.367895         7.081977         6.551968   \n",
        "117_at            6.689444         6.482782         5.767831         5.570464   \n",
        "121_at            7.489785         7.388539         7.156191         7.514597   \n",
        "1255_g_at         3.304038         2.887919         2.914396         3.132311   \n",
        "\n",
        "           GSM25399.CEL.gz  GSM25400.CEL.gz  GSM25401.CEL.gz  GSM25402.CEL.gz  \\\n",
        "Gene name                                                                       \n",
        "1007_s_at         5.810930         6.084216         6.139850         5.678862   \n",
        "1053_at           6.666625         7.241152         6.968081         7.140206   \n",
        "117_at            5.807496         5.944780         6.038395         5.778091   \n",
        "121_at            7.711461         7.211886         8.205522         7.636212   \n",
        "1255_g_at         2.969579         2.923335         3.178315         3.030377   \n",
        "\n",
        "           GSM25409.CEL.gz  GSM25410.CEL.gz  GSM25426.CEL.gz  GSM25427.CEL.gz  \\\n",
        "Gene name                                                                       \n",
        "1007_s_at         6.654776         6.761052         6.356741         6.122355   \n",
        "1053_at           6.406173         7.289983         7.167493         7.168782   \n",
        "117_at            5.583928         5.688603         5.323266         5.409720   \n",
        "121_at            7.367773         7.527891         7.711821         7.432338   \n",
        "1255_g_at         3.342999         3.321200         3.191944         3.250600   \n",
        "\n",
        "               \n",
        "Gene name      \n",
        "1007_s_at ...  \n",
        "1053_at   ...  \n",
        "117_at    ...  \n",
        "121_at    ...  \n",
        "1255_g_at ...  \n",
        "\n",
        "[5 rows x 102 columns]"
       ]
      }
     ],
     "prompt_number": 387
    },
    {
     "cell_type": "markdown",
     "metadata": {},
     "source": [
      "Check to make sure the order of the columns in the `exprsCEU` DataFrame matches the rows in the `sampleinfoCEU` DataFrame.  "
     ]
    },
    {
     "cell_type": "code",
     "collapsed": false,
     "input": [
      "#Checking result\n",
      "(exprsCEU.columns == sampleinfoCEU.filename).all()"
     ],
     "language": "python",
     "metadata": {},
     "outputs": [
      {
       "metadata": {},
       "output_type": "pyout",
       "prompt_number": 42,
       "text": [
        "True"
       ]
      }
     ],
     "prompt_number": 42
    },
    {
     "cell_type": "markdown",
     "metadata": {},
     "source": [
      "Compute the average gene expression intensity in the `exprsCEU` DataFrame across all the samples. For each sample in the `exprsCEU` DataFrame, subtract the average gene expression intensity from each of the samples. Show the head of the mean normalized gene expression data.  "
     ]
    },
    {
     "cell_type": "code",
     "collapsed": false,
     "input": [
      "#creates temp array to work with\n",
      "temp = exprsCEU\n",
      "#Aided by Ever Alvarado\n",
      "temp = temp.sub(temp.mean(axis=1), axis=0)\n",
      "temp.head()"
     ],
     "language": "python",
     "metadata": {},
     "outputs": [
      {
       "html": [
        "<div style=\"max-height:1000px;max-width:1500px;overflow:auto;\">\n",
        "<table border=\"1\" class=\"dataframe\">\n",
        "  <thead>\n",
        "    <tr style=\"text-align: right;\">\n",
        "      <th></th>\n",
        "      <th>GSM25349.CEL.gz</th>\n",
        "      <th>GSM25350.CEL.gz</th>\n",
        "      <th>GSM25356.CEL.gz</th>\n",
        "      <th>GSM25357.CEL.gz</th>\n",
        "      <th>GSM25358.CEL.gz</th>\n",
        "      <th>GSM25359.CEL.gz</th>\n",
        "      <th>GSM25360.CEL.gz</th>\n",
        "      <th>GSM25361.CEL.gz</th>\n",
        "      <th>GSM25377.CEL.gz</th>\n",
        "      <th>GSM25378.CEL.gz</th>\n",
        "      <th>GSM25385.CEL.gz</th>\n",
        "      <th>GSM25386.CEL.gz</th>\n",
        "      <th>GSM25399.CEL.gz</th>\n",
        "      <th>GSM25400.CEL.gz</th>\n",
        "      <th>GSM25401.CEL.gz</th>\n",
        "      <th>GSM25402.CEL.gz</th>\n",
        "      <th>GSM25409.CEL.gz</th>\n",
        "      <th>GSM25410.CEL.gz</th>\n",
        "      <th>GSM25426.CEL.gz</th>\n",
        "      <th>GSM25427.CEL.gz</th>\n",
        "      <th></th>\n",
        "    </tr>\n",
        "    <tr>\n",
        "      <th>Gene name</th>\n",
        "      <th></th>\n",
        "      <th></th>\n",
        "      <th></th>\n",
        "      <th></th>\n",
        "      <th></th>\n",
        "      <th></th>\n",
        "      <th></th>\n",
        "      <th></th>\n",
        "      <th></th>\n",
        "      <th></th>\n",
        "      <th></th>\n",
        "      <th></th>\n",
        "      <th></th>\n",
        "      <th></th>\n",
        "      <th></th>\n",
        "      <th></th>\n",
        "      <th></th>\n",
        "      <th></th>\n",
        "      <th></th>\n",
        "      <th></th>\n",
        "    </tr>\n",
        "  </thead>\n",
        "  <tbody>\n",
        "    <tr>\n",
        "      <th>1007_s_at</th>\n",
        "      <td> 0.365059</td>\n",
        "      <td>-0.012149</td>\n",
        "      <td>-0.327827</td>\n",
        "      <td>-0.116687</td>\n",
        "      <td>-0.170685</td>\n",
        "      <td>-0.220769</td>\n",
        "      <td>-0.211580</td>\n",
        "      <td>-0.198109</td>\n",
        "      <td>-0.035849</td>\n",
        "      <td> 0.096327</td>\n",
        "      <td> 0.179497</td>\n",
        "      <td>-0.012727</td>\n",
        "      <td>-0.451025</td>\n",
        "      <td>-0.177739</td>\n",
        "      <td>-0.122105</td>\n",
        "      <td>-0.583093</td>\n",
        "      <td> 0.392821</td>\n",
        "      <td> 0.499097</td>\n",
        "      <td> 0.094786</td>\n",
        "      <td>-0.139600</td>\n",
        "      <td>...</td>\n",
        "    </tr>\n",
        "    <tr>\n",
        "      <th>1053_at</th>\n",
        "      <td>-0.136032</td>\n",
        "      <td>-0.257178</td>\n",
        "      <td>-0.027254</td>\n",
        "      <td> 0.347260</td>\n",
        "      <td> 0.197144</td>\n",
        "      <td> 0.053000</td>\n",
        "      <td>-0.324497</td>\n",
        "      <td>-0.238930</td>\n",
        "      <td>-0.337195</td>\n",
        "      <td> 0.292678</td>\n",
        "      <td> 0.006760</td>\n",
        "      <td>-0.523249</td>\n",
        "      <td>-0.408592</td>\n",
        "      <td> 0.165936</td>\n",
        "      <td>-0.107136</td>\n",
        "      <td> 0.064990</td>\n",
        "      <td>-0.669043</td>\n",
        "      <td> 0.214767</td>\n",
        "      <td> 0.092277</td>\n",
        "      <td> 0.093566</td>\n",
        "      <td>...</td>\n",
        "    </tr>\n",
        "    <tr>\n",
        "      <th>117_at</th>\n",
        "      <td>-0.490556</td>\n",
        "      <td>-0.530031</td>\n",
        "      <td>-0.232926</td>\n",
        "      <td>-0.337577</td>\n",
        "      <td>-0.262080</td>\n",
        "      <td>-0.540250</td>\n",
        "      <td>-0.288228</td>\n",
        "      <td>-0.120475</td>\n",
        "      <td> 1.085317</td>\n",
        "      <td> 0.878655</td>\n",
        "      <td> 0.163704</td>\n",
        "      <td>-0.033662</td>\n",
        "      <td> 0.203370</td>\n",
        "      <td> 0.340654</td>\n",
        "      <td> 0.434269</td>\n",
        "      <td> 0.173964</td>\n",
        "      <td>-0.020198</td>\n",
        "      <td> 0.084477</td>\n",
        "      <td>-0.280861</td>\n",
        "      <td>-0.194407</td>\n",
        "      <td>...</td>\n",
        "    </tr>\n",
        "    <tr>\n",
        "      <th>121_at</th>\n",
        "      <td> 0.418026</td>\n",
        "      <td> 0.364847</td>\n",
        "      <td> 0.042362</td>\n",
        "      <td> 0.240113</td>\n",
        "      <td> 0.130720</td>\n",
        "      <td>-0.343165</td>\n",
        "      <td>-0.322852</td>\n",
        "      <td>-0.461611</td>\n",
        "      <td> 0.073949</td>\n",
        "      <td>-0.027296</td>\n",
        "      <td>-0.259644</td>\n",
        "      <td> 0.098761</td>\n",
        "      <td> 0.295625</td>\n",
        "      <td>-0.203950</td>\n",
        "      <td> 0.789686</td>\n",
        "      <td> 0.220377</td>\n",
        "      <td>-0.048063</td>\n",
        "      <td> 0.112056</td>\n",
        "      <td> 0.295986</td>\n",
        "      <td> 0.016503</td>\n",
        "      <td>...</td>\n",
        "    </tr>\n",
        "    <tr>\n",
        "      <th>1255_g_at</th>\n",
        "      <td> 0.018335</td>\n",
        "      <td>-0.022187</td>\n",
        "      <td>-0.115002</td>\n",
        "      <td> 0.020611</td>\n",
        "      <td>-0.025980</td>\n",
        "      <td> 0.090351</td>\n",
        "      <td>-0.019693</td>\n",
        "      <td>-0.088959</td>\n",
        "      <td> 0.170104</td>\n",
        "      <td>-0.246015</td>\n",
        "      <td>-0.219538</td>\n",
        "      <td>-0.001623</td>\n",
        "      <td>-0.164355</td>\n",
        "      <td>-0.210599</td>\n",
        "      <td> 0.044381</td>\n",
        "      <td>-0.103557</td>\n",
        "      <td> 0.209065</td>\n",
        "      <td> 0.187266</td>\n",
        "      <td> 0.058010</td>\n",
        "      <td> 0.116666</td>\n",
        "      <td>...</td>\n",
        "    </tr>\n",
        "  </tbody>\n",
        "</table>\n",
        "<p>5 rows \u00d7 102 columns</p>\n",
        "</div>"
       ],
       "metadata": {},
       "output_type": "pyout",
       "prompt_number": 152,
       "text": [
        "           GSM25349.CEL.gz  GSM25350.CEL.gz  GSM25356.CEL.gz  GSM25357.CEL.gz  \\\n",
        "Gene name                                                                       \n",
        "1007_s_at         0.365059        -0.012149        -0.327827        -0.116687   \n",
        "1053_at          -0.136032        -0.257178        -0.027254         0.347260   \n",
        "117_at           -0.490556        -0.530031        -0.232926        -0.337577   \n",
        "121_at            0.418026         0.364847         0.042362         0.240113   \n",
        "1255_g_at         0.018335        -0.022187        -0.115002         0.020611   \n",
        "\n",
        "           GSM25358.CEL.gz  GSM25359.CEL.gz  GSM25360.CEL.gz  GSM25361.CEL.gz  \\\n",
        "Gene name                                                                       \n",
        "1007_s_at        -0.170685        -0.220769        -0.211580        -0.198109   \n",
        "1053_at           0.197144         0.053000        -0.324497        -0.238930   \n",
        "117_at           -0.262080        -0.540250        -0.288228        -0.120475   \n",
        "121_at            0.130720        -0.343165        -0.322852        -0.461611   \n",
        "1255_g_at        -0.025980         0.090351        -0.019693        -0.088959   \n",
        "\n",
        "           GSM25377.CEL.gz  GSM25378.CEL.gz  GSM25385.CEL.gz  GSM25386.CEL.gz  \\\n",
        "Gene name                                                                       \n",
        "1007_s_at        -0.035849         0.096327         0.179497        -0.012727   \n",
        "1053_at          -0.337195         0.292678         0.006760        -0.523249   \n",
        "117_at            1.085317         0.878655         0.163704        -0.033662   \n",
        "121_at            0.073949        -0.027296        -0.259644         0.098761   \n",
        "1255_g_at         0.170104        -0.246015        -0.219538        -0.001623   \n",
        "\n",
        "           GSM25399.CEL.gz  GSM25400.CEL.gz  GSM25401.CEL.gz  GSM25402.CEL.gz  \\\n",
        "Gene name                                                                       \n",
        "1007_s_at        -0.451025        -0.177739        -0.122105        -0.583093   \n",
        "1053_at          -0.408592         0.165936        -0.107136         0.064990   \n",
        "117_at            0.203370         0.340654         0.434269         0.173964   \n",
        "121_at            0.295625        -0.203950         0.789686         0.220377   \n",
        "1255_g_at        -0.164355        -0.210599         0.044381        -0.103557   \n",
        "\n",
        "           GSM25409.CEL.gz  GSM25410.CEL.gz  GSM25426.CEL.gz  GSM25427.CEL.gz  \\\n",
        "Gene name                                                                       \n",
        "1007_s_at         0.392821         0.499097         0.094786        -0.139600   \n",
        "1053_at          -0.669043         0.214767         0.092277         0.093566   \n",
        "117_at           -0.020198         0.084477        -0.280861        -0.194407   \n",
        "121_at           -0.048063         0.112056         0.295986         0.016503   \n",
        "1255_g_at         0.209065         0.187266         0.058010         0.116666   \n",
        "\n",
        "               \n",
        "Gene name      \n",
        "1007_s_at ...  \n",
        "1053_at   ...  \n",
        "117_at    ...  \n",
        "121_at    ...  \n",
        "1255_g_at ...  \n",
        "\n",
        "[5 rows x 102 columns]"
       ]
      }
     ],
     "prompt_number": 152
    },
    {
     "cell_type": "markdown",
     "metadata": {},
     "source": [
      "Using this mean normalized gene expression data, compute the projection to the first Principal Component (PC1).  \n",
      "\n",
      "**Hint**: Use the `numpy.linalg.svd()` function in the `numpy.linalg` module (or the `scipy.linalg.svd()` function in the `scipy.linalg` module) to apply an [singular value decomposition](http://en.wikipedia.org/wiki/Singular_value_decomposition) to a matrix.  "
     ]
    },
    {
     "cell_type": "code",
     "collapsed": false,
     "input": [
      "#Conducts SVD and produces constituent matrices\n",
      "u,s,vh = np.linalg.svd(temp)\n"
     ],
     "language": "python",
     "metadata": {},
     "outputs": [],
     "prompt_number": 392
    },
    {
     "cell_type": "code",
     "collapsed": false,
     "input": [
      "#Pulls out PC1\n",
      "PC1 = vh[0,:]\n",
      "PC1"
     ],
     "language": "python",
     "metadata": {},
     "outputs": [
      {
       "metadata": {},
       "output_type": "pyout",
       "prompt_number": 393,
       "text": [
        "array([-0.04120114, -0.04667916,  0.02323035, -0.04903385,  0.02067446,\n",
        "        0.00849423,  0.08821779,  0.04838172,  0.13460391, -0.03017646,\n",
        "        0.08654261,  0.14043381,  0.21930879,  0.03978106,  0.11992376,\n",
        "        0.04268799,  0.11985249, -0.05684066, -0.03694419, -0.01812362,\n",
        "        0.04161478,  0.02348047, -0.05006068, -0.07296809,  0.09099799,\n",
        "        0.02919139,  0.08667385,  0.0647991 ,  0.13766969,  0.07781195,\n",
        "        0.17033074,  0.14079489,  0.04714323,  0.05139931, -0.009227  ,\n",
        "       -0.00585961, -0.11769737, -0.11599353, -0.11487241, -0.092238  ,\n",
        "       -0.09957034, -0.095896  ,  0.0892303 ,  0.07410897,  0.10914693,\n",
        "        0.03136527, -0.03967716, -0.0501878 , -0.04329991, -0.12438774,\n",
        "       -0.13463256, -0.12336567,  0.07493342,  0.01826555,  0.0799834 ,\n",
        "        0.07549475, -0.00115702,  0.07315554,  0.15729431,  0.05652619,\n",
        "        0.1644683 ,  0.05000546,  0.21200927, -0.0613037 ,  0.19636458,\n",
        "        0.12149494,  0.07012485,  0.02767612,  0.08828195,  0.14606184,\n",
        "        0.08919145,  0.02147918,  0.03192572,  0.10087003, -0.06104988,\n",
        "       -0.03967277, -0.07288471, -0.07107135, -0.13895184, -0.09413529,\n",
        "       -0.11676884, -0.08881673, -0.15359387, -0.14454156, -0.07446876,\n",
        "       -0.10316128, -0.10463461, -0.08131313, -0.05857071, -0.15407442,\n",
        "       -0.08907973, -0.10892828, -0.06635543, -0.12361361, -0.07950414,\n",
        "       -0.11481073, -0.12713809,  0.12118024,  0.07247287, -0.12743916,\n",
        "       -0.19476468, -0.1864145 ])"
       ]
      }
     ],
     "prompt_number": 393
    },
    {
     "cell_type": "markdown",
     "metadata": {},
     "source": [
      "Create a histogram using the values from PC1.  Use a bin size of 25.  "
     ]
    },
    {
     "cell_type": "code",
     "collapsed": false,
     "input": [
      "#Plots PC1\n",
      "plt.hist(PC1,bins=25)"
     ],
     "language": "python",
     "metadata": {},
     "outputs": [
      {
       "metadata": {},
       "output_type": "pyout",
       "prompt_number": 394,
       "text": [
        "(array([  2.,   0.,   2.,   3.,  10.,   5.,   6.,   5.,   8.,   6.,   1.,\n",
        "          3.,   2.,   8.,   7.,   3.,   9.,   6.,   3.,   3.,   4.,   2.,\n",
        "          1.,   1.,   2.]),\n",
        " array([-0.19476468, -0.17820174, -0.1616388 , -0.14507587, -0.12851293,\n",
        "        -0.11194999, -0.09538705, -0.07882411, -0.06226117, -0.04569823,\n",
        "        -0.02913529, -0.01257235,  0.00399058,  0.02055352,  0.03711646,\n",
        "         0.0536794 ,  0.07024234,  0.08680528,  0.10336822,  0.11993116,\n",
        "         0.13649409,  0.15305703,  0.16961997,  0.18618291,  0.20274585,\n",
        "         0.21930879]),\n",
        " <a list of 25 Patch objects>)"
       ]
      },
      {
       "metadata": {},
       "output_type": "display_data",
       "png": "[encoded data removed]",
       "text": [
        "<matplotlib.figure.Figure at 0xb900ac8>"
       ]
      }
     ],
     "prompt_number": 394
    },
    {
     "cell_type": "markdown",
     "metadata": {},
     "source": [
      "Create a scatter plot with the days since October 31, 2002 on the x-axis and PC1 on the y-axis."
     ]
    },
    {
     "cell_type": "code",
     "collapsed": false,
     "input": [
      "#Scaters PC1\n",
      "plt.scatter(sampleinfoCEU[\"elapsedInDays\"],PC1)\n",
      "plt.xlabel(\"days elapsed\")\n",
      "plt.ylabel(\"PC1\")\n",
      "plt.title(\"Plotting PC1 against Days Elapsed\")"
     ],
     "language": "python",
     "metadata": {},
     "outputs": [
      {
       "metadata": {},
       "output_type": "pyout",
       "prompt_number": 502,
       "text": [
        "<matplotlib.text.Text at 0x511947b8>"
       ]
      },
      {
       "metadata": {},
       "output_type": "display_data",
       "png": "[encoded data removed]",
       "text": [
        "<matplotlib.figure.Figure at 0x50fdbbe0>"
       ]
      }
     ],
     "prompt_number": 502
    },
    {
     "cell_type": "markdown",
     "metadata": {},
     "source": [
      "Around what day do you notice a difference in the way the samples were processed?"
     ]
    },
    {
     "cell_type": "markdown",
     "metadata": {},
     "source": [
      "Answer:We notice a difference around day 500, when the data begins to diverge from the distribution around 0 in days 1-100"
     ]
    },
    {
     "cell_type": "markdown",
     "metadata": {},
     "source": [
      "## Discussion for Problem 1\n",
      "\n",
      "*Write a brief discussion of your conclusions to the questions and tasks above in 100 words or less.*\n",
      "\n",
      "---\n",
      "\n",
      "By conducting SVD, we find that the date that the sample is processed had a large effect on the variability of the experiment described in Problem 1. While we would expect the distribution to be fairly similar when the sample is processed at different times, the resulting scatterplot illustrates that this is not the case, as the results later into the analysis period largely deviated from earlier results."
     ]
    },
    {
     "cell_type": "markdown",
     "metadata": {},
     "source": [
      "## Problem 2: Is there a pollster bias in presidential election polls?"
     ]
    },
    {
     "cell_type": "markdown",
     "metadata": {},
     "source": [
      "#### Problem 2(a)\n",
      "\n",
      "The [HuffPost Pollster](http://elections.huffingtonpost.com/pollster) contains many political polls. You can access these polls from individual races as a CSV but you can also access polls through the [HuffPost Pollster API](http://elections.huffingtonpost.com/pollster/api) to access the data.  \n",
      "\n",
      "Read in the polls from the [2012 Presidential Election: Barack Obama vs Mitt Romney](http://elections.huffingtonpost.com/pollster/2012-general-election-romney-vs-obama) into a pandas DataFrame called `election`. For this problem, you may read in the polls for this race directly using [the CSV file](http://elections.huffingtonpost.com/pollster/2012-general-election-romney-vs-obama.csv) available from the HuffPost Pollster page."
     ]
    },
    {
     "cell_type": "code",
     "collapsed": false,
     "input": [
      "#Gets csv\n",
      "election = getcsv(\"http://elections.huffingtonpost.com/pollster/2012-general-election-romney-vs-obama.csv\")"
     ],
     "language": "python",
     "metadata": {},
     "outputs": [],
     "prompt_number": 288
    },
    {
     "cell_type": "markdown",
     "metadata": {},
     "source": [
      "Show the head of the `election` DataFrame. "
     ]
    },
    {
     "cell_type": "code",
     "collapsed": false,
     "input": [
      "election.head()"
     ],
     "language": "python",
     "metadata": {},
     "outputs": [
      {
       "html": [
        "<div style=\"max-height:1000px;max-width:1500px;overflow:auto;\">\n",
        "<table border=\"1\" class=\"dataframe\">\n",
        "  <thead>\n",
        "    <tr style=\"text-align: right;\">\n",
        "      <th></th>\n",
        "      <th>Pollster</th>\n",
        "      <th>Start Date</th>\n",
        "      <th>End Date</th>\n",
        "      <th>Entry Date/Time (ET)</th>\n",
        "      <th>Number of Observations</th>\n",
        "      <th>Population</th>\n",
        "      <th>Mode</th>\n",
        "      <th>Obama</th>\n",
        "      <th>Romney</th>\n",
        "      <th>Undecided</th>\n",
        "      <th>Pollster URL</th>\n",
        "      <th>Source URL</th>\n",
        "      <th>Partisan</th>\n",
        "      <th>Affiliation</th>\n",
        "    </tr>\n",
        "  </thead>\n",
        "  <tbody>\n",
        "    <tr>\n",
        "      <th>0</th>\n",
        "      <td> Politico/GWU/Battleground</td>\n",
        "      <td> 2012-11-04</td>\n",
        "      <td> 2012-11-05</td>\n",
        "      <td> 2012-11-06 08:40:26</td>\n",
        "      <td> 1000</td>\n",
        "      <td> Likely Voters</td>\n",
        "      <td>      Live Phone</td>\n",
        "      <td> 47</td>\n",
        "      <td> 47</td>\n",
        "      <td>  6</td>\n",
        "      <td> http://elections.huffingtonpost.com/pollster/p...</td>\n",
        "      <td> http://www.politico.com/news/stories/1112/8338...</td>\n",
        "      <td> Nonpartisan</td>\n",
        "      <td> None</td>\n",
        "    </tr>\n",
        "    <tr>\n",
        "      <th>1</th>\n",
        "      <td>                UPI/CVOTER</td>\n",
        "      <td> 2012-11-03</td>\n",
        "      <td> 2012-11-05</td>\n",
        "      <td> 2012-11-05 18:30:15</td>\n",
        "      <td> 3000</td>\n",
        "      <td> Likely Voters</td>\n",
        "      <td>      Live Phone</td>\n",
        "      <td> 49</td>\n",
        "      <td> 48</td>\n",
        "      <td>NaN</td>\n",
        "      <td> http://elections.huffingtonpost.com/pollster/p...</td>\n",
        "      <td>                                               NaN</td>\n",
        "      <td> Nonpartisan</td>\n",
        "      <td> None</td>\n",
        "    </tr>\n",
        "    <tr>\n",
        "      <th>2</th>\n",
        "      <td>          Gravis Marketing</td>\n",
        "      <td> 2012-11-03</td>\n",
        "      <td> 2012-11-05</td>\n",
        "      <td> 2012-11-06 09:22:02</td>\n",
        "      <td>  872</td>\n",
        "      <td> Likely Voters</td>\n",
        "      <td> Automated Phone</td>\n",
        "      <td> 48</td>\n",
        "      <td> 48</td>\n",
        "      <td>  4</td>\n",
        "      <td> http://elections.huffingtonpost.com/pollster/p...</td>\n",
        "      <td> http://www.gravispolls.com/2012/11/gravis-mark...</td>\n",
        "      <td> Nonpartisan</td>\n",
        "      <td> None</td>\n",
        "    </tr>\n",
        "    <tr>\n",
        "      <th>3</th>\n",
        "      <td>      JZ Analytics/Newsmax</td>\n",
        "      <td> 2012-11-03</td>\n",
        "      <td> 2012-11-05</td>\n",
        "      <td> 2012-11-06 07:38:41</td>\n",
        "      <td> 1041</td>\n",
        "      <td> Likely Voters</td>\n",
        "      <td>        Internet</td>\n",
        "      <td> 47</td>\n",
        "      <td> 47</td>\n",
        "      <td>  6</td>\n",
        "      <td> http://elections.huffingtonpost.com/pollster/p...</td>\n",
        "      <td>                       http://www.jzanalytics.com/</td>\n",
        "      <td>     Sponsor</td>\n",
        "      <td>  Rep</td>\n",
        "    </tr>\n",
        "    <tr>\n",
        "      <th>4</th>\n",
        "      <td>                 Rasmussen</td>\n",
        "      <td> 2012-11-03</td>\n",
        "      <td> 2012-11-05</td>\n",
        "      <td> 2012-11-06 08:47:50</td>\n",
        "      <td> 1500</td>\n",
        "      <td> Likely Voters</td>\n",
        "      <td> Automated Phone</td>\n",
        "      <td> 48</td>\n",
        "      <td> 49</td>\n",
        "      <td>NaN</td>\n",
        "      <td> http://elections.huffingtonpost.com/pollster/p...</td>\n",
        "      <td> http://www.rasmussenreports.com/public_content...</td>\n",
        "      <td> Nonpartisan</td>\n",
        "      <td> None</td>\n",
        "    </tr>\n",
        "  </tbody>\n",
        "</table>\n",
        "<p>5 rows \u00d7 14 columns</p>\n",
        "</div>"
       ],
       "metadata": {},
       "output_type": "pyout",
       "prompt_number": 289,
       "text": [
        "                    Pollster  Start Date    End Date Entry Date/Time (ET)  \\\n",
        "0  Politico/GWU/Battleground  2012-11-04  2012-11-05  2012-11-06 08:40:26   \n",
        "1                 UPI/CVOTER  2012-11-03  2012-11-05  2012-11-05 18:30:15   \n",
        "2           Gravis Marketing  2012-11-03  2012-11-05  2012-11-06 09:22:02   \n",
        "3       JZ Analytics/Newsmax  2012-11-03  2012-11-05  2012-11-06 07:38:41   \n",
        "4                  Rasmussen  2012-11-03  2012-11-05  2012-11-06 08:47:50   \n",
        "\n",
        "   Number of Observations     Population             Mode  Obama  Romney  \\\n",
        "0                    1000  Likely Voters       Live Phone     47      47   \n",
        "1                    3000  Likely Voters       Live Phone     49      48   \n",
        "2                     872  Likely Voters  Automated Phone     48      48   \n",
        "3                    1041  Likely Voters         Internet     47      47   \n",
        "4                    1500  Likely Voters  Automated Phone     48      49   \n",
        "\n",
        "   Undecided                                       Pollster URL  \\\n",
        "0          6  http://elections.huffingtonpost.com/pollster/p...   \n",
        "1        NaN  http://elections.huffingtonpost.com/pollster/p...   \n",
        "2          4  http://elections.huffingtonpost.com/pollster/p...   \n",
        "3          6  http://elections.huffingtonpost.com/pollster/p...   \n",
        "4        NaN  http://elections.huffingtonpost.com/pollster/p...   \n",
        "\n",
        "                                          Source URL     Partisan Affiliation  \n",
        "0  http://www.politico.com/news/stories/1112/8338...  Nonpartisan        None  \n",
        "1                                                NaN  Nonpartisan        None  \n",
        "2  http://www.gravispolls.com/2012/11/gravis-mark...  Nonpartisan        None  \n",
        "3                        http://www.jzanalytics.com/      Sponsor         Rep  \n",
        "4  http://www.rasmussenreports.com/public_content...  Nonpartisan        None  \n",
        "\n",
        "[5 rows x 14 columns]"
       ]
      }
     ],
     "prompt_number": 289
    },
    {
     "cell_type": "markdown",
     "metadata": {},
     "source": [
      "How many polls were conducted in November? Define this number as M.  \n",
      "\n",
      "**Hint**: Subset the `election` DataFrame for only dates in the `Start Date` column that are in November 2012.  "
     ]
    },
    {
     "cell_type": "code",
     "collapsed": true,
     "input": [
      "#Makes Start Date into datetime object\n",
      "election[\"Start Date\"] = pd.to_datetime(election[\"Start Date\"])\n",
      "#Creates df to work with\n",
      "election2 = election[election[\"Start Date\"] > pd.to_datetime(\"2012-10-31\")]\n",
      "#finds length of df\n",
      "M = len(election2.index)\n",
      "print \"%s polls were done in November\" % M"
     ],
     "language": "python",
     "metadata": {},
     "outputs": [
      {
       "output_type": "stream",
       "stream": "stdout",
       "text": [
        "19 polls were done in November\n"
       ]
      }
     ],
     "prompt_number": 402
    },
    {
     "cell_type": "markdown",
     "metadata": {},
     "source": [
      "Answer:19\n"
     ]
    },
    {
     "cell_type": "markdown",
     "metadata": {},
     "source": [
      "What was the median of the number of observations in the November polls? Define this quantity as N. "
     ]
    },
    {
     "cell_type": "code",
     "collapsed": false,
     "input": [
      "N = election2[\"Number of Observations\"].median()\n",
      "print \"The median number of observations in November is %d\" % N"
     ],
     "language": "python",
     "metadata": {},
     "outputs": [
      {
       "output_type": "stream",
       "stream": "stdout",
       "text": [
        "The median number of observations in November is 1200\n"
       ]
      }
     ],
     "prompt_number": 505
    },
    {
     "cell_type": "markdown",
     "metadata": {},
     "source": [
      "Answer: 1200"
     ]
    },
    {
     "cell_type": "markdown",
     "metadata": {},
     "source": [
      "#### Problem 2(b)\n",
      "\n",
      "Using the median sample size $N$ from Problem 1(a), simulate the results from a single poll:  simulate the number of votes for Obama out of a sample size $N$ where $p$ = 0.53 is the percent of voters who are voting for Obama.  \n",
      "\n",
      "**Hint**: Use the binomial distribution with parameters $N$ and $p$ = 0.53. "
     ]
    },
    {
     "cell_type": "code",
     "collapsed": false,
     "input": [
      "#Does on sample binomial trial\n",
      "def samppoll ():\n",
      "    return np.random.binomial(N, .53)\n",
      "\n",
      "samppoll()"
     ],
     "language": "python",
     "metadata": {},
     "outputs": [
      {
       "metadata": {},
       "output_type": "pyout",
       "prompt_number": 506,
       "text": [
        "638"
       ]
      }
     ],
     "prompt_number": 506
    },
    {
     "cell_type": "markdown",
     "metadata": {},
     "source": [
      "Now, perform a Monte Carlo simulation to obtain the estimated percentage of Obama votes with a sample size $N$ where $N$ is the median sample size calculated in Problem 2(a). Let $p$=0.53 be the percent of voters are voting for Obama. \n",
      "\n",
      "**Hint**: You will repeat the simulation above 1,000 times and plot the distribution of the estimated *percent* of Obama votes from a single poll.  The results from the single poll you simulate is random variable and will be different every time you sample. "
     ]
    },
    {
     "cell_type": "code",
     "collapsed": false,
     "input": [
      "#Runs binomial test 1000 times\n",
      "polls = np.random.binomial(N, .53, size=1000)/N"
     ],
     "language": "python",
     "metadata": {},
     "outputs": [],
     "prompt_number": 507
    },
    {
     "cell_type": "markdown",
     "metadata": {},
     "source": [
      "Plot the distribution of the estimated percentage of Obama votes from your single poll. What is the distribution of the estimated percentage of Obama votes? "
     ]
    },
    {
     "cell_type": "code",
     "collapsed": false,
     "input": [
      "#Plots histogram\n",
      "histogram = plt.hist(polls, bins=30)\n",
      "plt.xlabel(\"Predicted Obama Vote %\")\n",
      "plt.ylabel(\"Samples of N Polls\")\n",
      "plt.title(\"Averages of N Polls\")"
     ],
     "language": "python",
     "metadata": {},
     "outputs": [
      {
       "metadata": {},
       "output_type": "pyout",
       "prompt_number": 515,
       "text": [
        "<matplotlib.text.Text at 0x4c980400>"
       ]
      },
      {
       "metadata": {},
       "output_type": "display_data",
       "png": "[encoded data removed]",
       "text": [
        "<matplotlib.figure.Figure at 0x5115acf8>"
       ]
      }
     ],
     "prompt_number": 515
    },
    {
     "cell_type": "markdown",
     "metadata": {},
     "source": [
      "Answer: It is a roughly normal distribution centered around the median at .53"
     ]
    },
    {
     "cell_type": "markdown",
     "metadata": {},
     "source": [
      "What is the standard error (SE) of the estimated percentage from the poll. \n",
      "\n",
      "**Hint**: Remember the SE is the standard deviation (SD) of the distribution of a random variable. "
     ]
    },
    {
     "cell_type": "code",
     "collapsed": false,
     "input": [
      "print \"Standard Error is %f\" % polls.std()"
     ],
     "language": "python",
     "metadata": {},
     "outputs": [
      {
       "output_type": "stream",
       "stream": "stdout",
       "text": [
        "Standard Error is 0.014724\n"
       ]
      }
     ],
     "prompt_number": 407
    },
    {
     "cell_type": "markdown",
     "metadata": {},
     "source": [
      "#### Problem 2(c)\n",
      "\n",
      "Now suppose we run M polls where M is the number of polls that happened in November (calculated in Problem 2(a)). Run 1,000 simulations and compute the mean of the M polls for each simulation. "
     ]
    },
    {
     "cell_type": "code",
     "collapsed": false,
     "input": [
      "np.random.binomial(N, .53, size=M)"
     ],
     "language": "python",
     "metadata": {},
     "outputs": [
      {
       "metadata": {},
       "output_type": "pyout",
       "prompt_number": 409,
       "text": [
        "array([628, 649, 656, 643, 663, 635, 623, 647, 642, 658, 637, 636, 632,\n",
        "       623, 607, 649, 642, 658, 648])"
       ]
      }
     ],
     "prompt_number": 409
    },
    {
     "cell_type": "code",
     "collapsed": false,
     "input": [
      "mpolls = np.zeros(1000)\n",
      "for x in range (0,1000):\n",
      "    mpolls[x] = (np.random.binomial(N, .53, size=M)/N).mean()\n"
     ],
     "language": "python",
     "metadata": {},
     "outputs": [],
     "prompt_number": 410
    },
    {
     "cell_type": "markdown",
     "metadata": {},
     "source": [
      "What is the distribution of the average of polls?\n",
      "\n",
      "**Hint**: Show a plot. "
     ]
    },
    {
     "cell_type": "code",
     "collapsed": false,
     "input": [
      "histogram = plt.hist(mpolls, bins=30)\n",
      "plt.xlabel(\"Estimated Obama Vote %\")\n",
      "plt.ylabel(\"Polls\")\n",
      "plt.title(\"Average of polls\")"
     ],
     "language": "python",
     "metadata": {},
     "outputs": [
      {
       "metadata": {},
       "output_type": "pyout",
       "prompt_number": 514,
       "text": [
        "<matplotlib.text.Text at 0x54272940>"
       ]
      },
      {
       "metadata": {},
       "output_type": "display_data",
       "png": "[encoded data removed]",
       "text": [
        "<matplotlib.figure.Figure at 0x4edbf208>"
       ]
      }
     ],
     "prompt_number": 514
    },
    {
     "cell_type": "markdown",
     "metadata": {},
     "source": [
      "Answer: "
     ]
    },
    {
     "cell_type": "markdown",
     "metadata": {},
     "source": [
      "What is the standard error (SE) of the average of polls? "
     ]
    },
    {
     "cell_type": "code",
     "collapsed": false,
     "input": [
      "print \"Standard Error is %f\" % mpolls.std()"
     ],
     "language": "python",
     "metadata": {},
     "outputs": [
      {
       "output_type": "stream",
       "stream": "stdout",
       "text": [
        "Standard Error is 0.003353\n"
       ]
      }
     ],
     "prompt_number": 412
    },
    {
     "cell_type": "markdown",
     "metadata": {},
     "source": [
      "Answer: "
     ]
    },
    {
     "cell_type": "markdown",
     "metadata": {},
     "source": [
      "Is the SE of the average of polls larger, the same, or smaller than that the SD of a single poll (calculated in Problem 2(b))? By how much?\n",
      "\n",
      "**Hint**: Compute a ratio of the two quantities.  "
     ]
    },
    {
     "cell_type": "code",
     "collapsed": false,
     "input": [
      "\"The SE of the single poll is %.2f%% larger than the SE of the average of polls\" % (polls.std()/mpolls.std()*100-100)"
     ],
     "language": "python",
     "metadata": {},
     "outputs": [
      {
       "metadata": {},
       "output_type": "pyout",
       "prompt_number": 413,
       "text": [
        "'The SE of the single poll is 339.14% larger than the SE of the average of polls'"
       ]
      }
     ],
     "prompt_number": 413
    },
    {
     "cell_type": "markdown",
     "metadata": {},
     "source": [
      "Answer: "
     ]
    },
    {
     "cell_type": "markdown",
     "metadata": {},
     "source": [
      "#### Problem 2(d) \n",
      "\n",
      "Repeat Problem 2(c) but now record the *across poll* standard deviation in each simulation. "
     ]
    },
    {
     "cell_type": "code",
     "collapsed": false,
     "input": [
      "#Creates blank dataframe\n",
      "mstdevs = np.zeros(1000)\n",
      "#Runs trial 1000 times, inputs into blank dataframe\n",
      "for x in range (0,1000):\n",
      "    mstdevs[x] = (np.random.binomial(N, .53, size=count)/N).std()"
     ],
     "language": "python",
     "metadata": {},
     "outputs": [],
     "prompt_number": 415
    },
    {
     "cell_type": "markdown",
     "metadata": {},
     "source": [
      "What is the distribution of the *across M polls* standard deviation?\n",
      "\n",
      "**Hint**: Show a plot. "
     ]
    },
    {
     "cell_type": "code",
     "collapsed": false,
     "input": [
      "histogram = plt.hist(mstdevs, bins=30)\n",
      "plt.title(\"Across Poll standard errors\")\n",
      "plt.xlabel(\"Standard Deviation\")\n",
      "plt.ylabel(\"Sample of polls\")"
     ],
     "language": "python",
     "metadata": {},
     "outputs": [
      {
       "metadata": {},
       "output_type": "pyout",
       "prompt_number": 511,
       "text": [
        "<matplotlib.text.Text at 0x54285fd0>"
       ]
      },
      {
       "metadata": {},
       "output_type": "display_data",
       "png": "[encoded data removed]",
       "text": [
        "<matplotlib.figure.Figure at 0x1c293518>"
       ]
      }
     ],
     "prompt_number": 511
    },
    {
     "cell_type": "markdown",
     "metadata": {},
     "source": [
      "Answer: "
     ]
    },
    {
     "cell_type": "markdown",
     "metadata": {},
     "source": [
      "#### Problem 2(e) \n",
      "\n",
      "What is the standard deviation of M polls in our real (not simulated) 2012 presidential election data ? "
     ]
    },
    {
     "cell_type": "code",
     "collapsed": false,
     "input": [
      "#your code here\n",
      "(election2[\"Obama\"]/100).std()"
     ],
     "language": "python",
     "metadata": {},
     "outputs": [
      {
       "metadata": {},
       "output_type": "pyout",
       "prompt_number": 419,
       "text": [
        "0.010841764600333335"
       ]
      }
     ],
     "prompt_number": 419
    },
    {
     "cell_type": "markdown",
     "metadata": {},
     "source": [
      "Is this larger, the same, or smaller than what we expeced if polls were not biased."
     ]
    },
    {
     "cell_type": "markdown",
     "metadata": {},
     "source": [
      "Answer: This is less than our expectations should the polls be biased, as we expect that biased surveys would have a greater standard error and thus be skewed away from the mean more than we would expect given random sampling of people given a Monte Carlo simulation with the expected values. However, we find that the actual standard error of .011 is less than the standard of error predicted in a naive survey as done in 2d (Standard error: ~0.13). However, it is possible that another factor is at play: it is conceivable that polls are skewing towards the results of existing polls in order to avoid being starkly different. As a result of this convergence, poll results would be biased in the opposite direction "
     ]
    },
    {
     "cell_type": "markdown",
     "metadata": {},
     "source": [
      "#### Problem 2(f)\n",
      "\n",
      "**For AC209 Students**: Learn about the normal appoximation for the binomial distribution and derive the results of Problem 2(b) and 2(c) analytically (using this approximation). Compare the results obtained analytically to those obtained from simulations."
     ]
    },
    {
     "cell_type": "markdown",
     "metadata": {},
     "source": [
      "Answer:"
     ]
    },
    {
     "cell_type": "markdown",
     "metadata": {},
     "source": [
      "## Discussion for Problem 2\n",
      "\n",
      "*Write a brief discussion of your conclusions to the questions and tasks above in 100 words or less.*\n",
      "\n",
      "---\n",
      "\n",
      "For this question, we checked to see whether polling for the 2014 Presidential Election was skewed by comparing the results against mock results produced by using a binomial distribution. We found that the standard error of the polls done in November 2012 did not appear to be biased, as the standard error was in fact less than what the prediction of our binomial model. However, we also noted that it is possible that this could be the result of pollsters skewing their data to align with existing expectations. It is also possible that pollster sampling did not reflect a truly random sample. If the same people were being oversampled, the standard error would also be less than predicted.\n"
     ]
    },
    {
     "cell_type": "markdown",
     "metadata": {},
     "source": [
      "## Problem 3: Is the average of polls better than just one poll?"
     ]
    },
    {
     "cell_type": "markdown",
     "metadata": {},
     "source": [
      "#### Problem 3(a)\n",
      "\n",
      "Most undecided voters vote for one of the two candidates at the election. Therefore, the reported percentages underestimate the final value of both candidates. However, if we assume the undecided will split evenly, then the observed difference should be an unbiased estimate of the final difference. \n",
      "\n",
      "Add a new column to the `election` DataFrame containg the difference between Obama and Romeny called `Diff`. "
     ]
    },
    {
     "cell_type": "code",
     "collapsed": false,
     "input": [
      "election3 = election2\n",
      "#Generates difference\n",
      "election3[\"Diff\"]=election[\"Obama\"]-election[\"Romney\"]\n",
      "#Changes difference to day form\n",
      "election3[\"Days Until Election\"]=(election3[\"Start Date\"]-pd.to_datetime(\"2012-11-06\")).astype(\"timedelta64[D]\")\n",
      "\n"
     ],
     "language": "python",
     "metadata": {},
     "outputs": [],
     "prompt_number": 509
    },
    {
     "cell_type": "markdown",
     "metadata": {},
     "source": [
      "#### Problem 3(b)\n",
      "\n",
      "Make a plot of the differences for the week before the election (e.g. 5 days) where the days are on the x-axis and the differences are on the y-axis.  Add a horizontal line showing 3.9%: the difference between Obama and Romney on election day."
     ]
    },
    {
     "cell_type": "code",
     "collapsed": true,
     "input": [
      "#Creates Scatter Plot\n",
      "plt.scatter(election3[ \"Days Until Election\"], election3[\"Diff\"])\n",
      "#Creates horizontal lines; Code taken from 9-30 Lecture\n",
      "plt.hlines(3.9, -6, 0)\n",
      "#Creates y label\n",
      "plt.ylabel(\"Predicted Obama Winning Margin\")\n",
      "# Creates x label\n",
      "plt.xlabel(\"Days Before Election\")\n",
      "# Creates title\n",
      "plt.title(\"Differences in Results Before Election\")"
     ],
     "language": "python",
     "metadata": {},
     "outputs": [
      {
       "metadata": {},
       "output_type": "pyout",
       "prompt_number": 354,
       "text": [
        "<matplotlib.text.Text at 0x1bffba58>"
       ]
      },
      {
       "metadata": {},
       "output_type": "display_data",
       "png": "[encoded data removed]",
       "text": [
        "<matplotlib.figure.Figure at 0x1afde080>"
       ]
      }
     ],
     "prompt_number": 354
    },
    {
     "cell_type": "markdown",
     "metadata": {},
     "source": [
      "#### Problem 3(c) \n",
      "\n",
      "Make a plot showing the differences by pollster where the pollsters are on the x-axis and the differences on the y-axis. "
     ]
    },
    {
     "cell_type": "code",
     "collapsed": false,
     "input": [
      "# Creates dataframe including pollsters and diffs\n",
      "raw = election[[\"Pollster\",\"Diff\"]]\n",
      "#groups pollsters into means\n",
      "bardata = raw.groupby([\"Pollster\"]).mean()\n",
      "#plots barchart\n",
      "bardata.plot(kind = 'bar')\n",
      "plt.xlabel('Pollster')\n",
      "plt.ylabel('Projected Obama Victory Margin')\n",
      "plt.title(\"Differences by Pollster\")\n",
      "plt.show()\n",
      "\n",
      "##Calculating between vs across\n",
      "print raw.mean() #Across pollsters\n",
      "print bardata.mean() #between pollsters\n",
      "print raw.std() #Across pollsters\n",
      "print bardata.std() #between pollsters\n"
     ],
     "language": "python",
     "metadata": {},
     "outputs": [
      {
       "metadata": {},
       "output_type": "display_data",
       "png": "[encoded data removed]",
       "text": [
        "<matplotlib.figure.Figure at 0x4df9ad68>"
       ]
      },
      {
       "output_type": "stream",
       "stream": "stdout",
       "text": [
        "Diff    2.198642\n",
        "dtype: float64\n",
        "Diff    2.533113\n",
        "dtype: float64\n",
        "Diff    3.787232\n",
        "dtype: float64\n",
        "Diff    2.775114\n",
        "dtype: float64\n"
       ]
      }
     ],
     "prompt_number": 496
    },
    {
     "cell_type": "markdown",
     "metadata": {},
     "source": [
      "Is the *across poll* difference larger than the *between pollster* difference? "
     ]
    },
    {
     "cell_type": "markdown",
     "metadata": {},
     "source": [
      "Answer: The across pollster difference (2.5) is greater than the between pollster difference (2.2) and closer to the actual value of 3.9. This indicates that if all pollsters were equally weighted, than it would be closer to 3.9"
     ]
    },
    {
     "cell_type": "markdown",
     "metadata": {},
     "source": [
      "#### Problem 3(d)\n",
      "\n",
      "Take the average for each pollster and then compute the average of that. Given this difference how confident would you have been of an Obama victory?\n",
      "\n",
      "**Hint**: Compute an estimate of the SE of this average based exclusively on the observed data. "
     ]
    },
    {
     "cell_type": "code",
     "collapsed": false,
     "input": [
      "#Groups polls by pollster\n",
      "polltotals = election.groupby(['Pollster'], as_index=False).mean()\n",
      "#Finds pollster-wise mean\n",
      "x = polltotals[\"Diff\"].mean()\n",
      "#Finds pollster-wise std\n",
      "y = polltotals[\"Diff\"].std()\n",
      "p = (1-stat.norm.cdf(-x/y))*100\n",
      "\n",
      "print \"Based on the calculated mean and standard deviation, Obama has a %d%% chance of winning\" % p"
     ],
     "language": "python",
     "metadata": {},
     "outputs": [
      {
       "output_type": "stream",
       "stream": "stdout",
       "text": [
        "Based on the calculated mean and standard deviation, Obama has a 81% chance of winning\n"
       ]
      }
     ],
     "prompt_number": 426
    },
    {
     "cell_type": "markdown",
     "metadata": {},
     "source": [
      "Answer: 81% confidence "
     ]
    },
    {
     "cell_type": "markdown",
     "metadata": {},
     "source": [
      "#### Problem 3(e)\n",
      "\n",
      "**For AC209 Students**: Show the difference against time and see if you can detect a trend towards the end. Use this trend to see if it improves the final estimate."
     ]
    },
    {
     "cell_type": "code",
     "collapsed": false,
     "input": [
      "#your code here"
     ],
     "language": "python",
     "metadata": {},
     "outputs": [],
     "prompt_number": 35
    },
    {
     "cell_type": "markdown",
     "metadata": {},
     "source": [
      "Answer: "
     ]
    },
    {
     "cell_type": "markdown",
     "metadata": {},
     "source": [
      "## Discussion for Problem 3\n",
      "\n",
      "*Write a brief discussion of your conclusions to the questions and tasks above in 100 words or less.*\n",
      "\n",
      "---\n",
      "\n",
      "For Problem 3, we find that we get better results with more accurate means and smaller standard errors when we use data between pollsters rather than across pollsters. However, it is difficult to compare the results of 3a with 3b given the different range of dates used. However, we notice that for 3a, data does not converge on the actual result, showing that the polling fails to truly capture the result of the election, indicating errors in sampling or reporting."
     ]
    },
    {
     "cell_type": "markdown",
     "metadata": {},
     "source": [
      "## Problem 4\n",
      "\n",
      "In this last problem, we will use the polls from the [2014 Senate Midterm Elections](http://elections.huffingtonpost.com/pollster) from the [HuffPost Pollster API](http://elections.huffingtonpost.com/pollster/api) to create a preliminary prediction of the result of each state. \n",
      "\n",
      "The HuffPost Pollster API allows you to access the data as a CSV or a JSON response by tacking \".csv\" or \".json\" at the end of the URLs. For example the 2012 Presidential Election could be accessed as a [.json](http://elections.huffingtonpost.com/pollster/2012-general-election-romney-vs-obama.json) instead of a [.csv](http://elections.huffingtonpost.com/pollster/2012-general-election-romney-vs-obama.csv)"
     ]
    },
    {
     "cell_type": "markdown",
     "metadata": {},
     "source": [
      "#### Problem 4(a)\n",
      "\n",
      "Read in the polls for **all** of the 2014 Senate Elections using the HuffPost API. For example, we can consider the [2014 Senate race in Kentucky between Mitch McConnell and Alison Grimes](http://elections.huffingtonpost.com/pollster/2014-kentucky-senate-mcconnell-vs-grimes). \n",
      "\n",
      "To search for the 2014 Senate races, use the `topics` parameter in the API [[read more about topics here](http://elections.huffingtonpost.com/pollster/api)].  "
     ]
    },
    {
     "cell_type": "code",
     "collapsed": false,
     "input": [
      "url_str = \"http://elections.huffingtonpost.com/pollster/api/charts/?topic=2014-senate\""
     ],
     "language": "python",
     "metadata": {},
     "outputs": [],
     "prompt_number": 182
    },
    {
     "cell_type": "markdown",
     "metadata": {},
     "source": [
      "To list all the URLs related to the 2014 Senate races using the pollster API, we can use a list comprehension:"
     ]
    },
    {
     "cell_type": "code",
     "collapsed": false,
     "input": [
      "election_urls = [electionf['url'] + '.csv' for electionf in requests.get(url_str).json()]\n",
      "election_urls"
     ],
     "language": "python",
     "metadata": {},
     "outputs": [
      {
       "metadata": {},
       "output_type": "pyout",
       "prompt_number": 287,
       "text": [
        "[u'http://elections.huffingtonpost.com/pollster/2014-kentucky-senate-mcconnell-vs-grimes.csv',\n",
        " u'http://elections.huffingtonpost.com/pollster/2014-arkansas-senate-cotton-vs-pryor.csv',\n",
        " u'http://elections.huffingtonpost.com/pollster/2014-michigan-senate-land-vs-peters.csv',\n",
        " u'http://elections.huffingtonpost.com/pollster/2014-louisiana-senate-cassidy-vs-landrieu.csv',\n",
        " u'http://elections.huffingtonpost.com/pollster/2014-new-hampshire-senate-brown-vs-shaheen.csv',\n",
        " u'http://elections.huffingtonpost.com/pollster/2014-west-virginia-senate-capito-vs-tennant.csv',\n",
        " u'http://elections.huffingtonpost.com/pollster/2014-new-hampshire-senate-bass-vs-shaheen.csv',\n",
        " u'http://elections.huffingtonpost.com/pollster/2014-north-carolina-senate-tillis-vs-hagan.csv',\n",
        " u'http://elections.huffingtonpost.com/pollster/2014-virginia-senate-gillespie-vs-warner.csv',\n",
        " u'http://elections.huffingtonpost.com/pollster/2014-colorado-senate-gardner-vs-udall.csv',\n",
        " u'http://elections.huffingtonpost.com/pollster/2014-illinois-senate-oberweis-vs-durbin.csv',\n",
        " u'http://elections.huffingtonpost.com/pollster/2014-alaska-senate-sullivan-vs-begich.csv',\n",
        " u'http://elections.huffingtonpost.com/pollster/2014-iowa-senate-ernst-vs-braley.csv',\n",
        " u'http://elections.huffingtonpost.com/pollster/2014-mississippi-senate-cochran-vs-childers.csv',\n",
        " u'http://elections.huffingtonpost.com/pollster/2014-oregon-senate-wehby-vs-merkley.csv',\n",
        " u'http://elections.huffingtonpost.com/pollster/2014-georgia-senate-perdue-vs-nunn.csv',\n",
        " u'http://elections.huffingtonpost.com/pollster/2014-louisiana-senate-sasse-vs-domina.csv',\n",
        " u'http://elections.huffingtonpost.com/pollster/2014-south-dakota-senate-rounds-vs-weiland.csv',\n",
        " u'http://elections.huffingtonpost.com/pollster/2014-maine-senate-collins-vs-bellows.csv',\n",
        " u'http://elections.huffingtonpost.com/pollster/2014-minnesota-senate-mcfadden-vs-franken.csv',\n",
        " u'http://elections.huffingtonpost.com/pollster/2014-texas-senate-cornyn-vs-alameel.csv',\n",
        " u'http://elections.huffingtonpost.com/pollster/2014-south-carolina-senate-graham-vs-hutto.csv',\n",
        " u'http://elections.huffingtonpost.com/pollster/2014-south-carolina-senate-scott-vs-dickerson.csv',\n",
        " u'http://elections.huffingtonpost.com/pollster/2014-oklahoma-senate-inhofe-vs-silverstein.csv',\n",
        " u'http://elections.huffingtonpost.com/pollster/2014-new-mexico-senate-weh-vs-udall.csv',\n",
        " u'http://elections.huffingtonpost.com/pollster/2014-new-jersey-senate-bell-vs-booker.csv',\n",
        " u'http://elections.huffingtonpost.com/pollster/2014-idaho-senate-risch-vs-mitchell.csv',\n",
        " u'http://elections.huffingtonpost.com/pollster/2014-tennessee-senate-alexander-vs-ball.csv',\n",
        " u'http://elections.huffingtonpost.com/pollster/2014-wyoming-senate.csv',\n",
        " u'http://elections.huffingtonpost.com/pollster/2014-kansas-senate-roberts-vs-orman-vs-taylor.csv',\n",
        " u'http://elections.huffingtonpost.com/pollster/2014-hawaii-senate-cavasso-vs-schatz.csv',\n",
        " u'http://elections.huffingtonpost.com/pollster/2014-oklahoma-senate-lankford-vs-johnson.csv',\n",
        " u'http://elections.huffingtonpost.com/pollster/2014-montana-senate-daines-vs-curtis.csv',\n",
        " u'http://elections.huffingtonpost.com/pollster/2014-rhode-island-senate-zaccaria-vs-reed.csv',\n",
        " u'http://elections.huffingtonpost.com/pollster/2014-massachusetts-senate-herr-vs-markey.csv',\n",
        " u'http://elections.huffingtonpost.com/pollster/2014-delaware-senate-wade-vs-coons.csv']"
       ]
      }
     ],
     "prompt_number": 287
    },
    {
     "cell_type": "markdown",
     "metadata": {},
     "source": [
      "Because there so many Senate races, we can create a dictionary of pandas DataFrames that will be keyed by the name of the election (a string). "
     ]
    },
    {
     "cell_type": "code",
     "collapsed": false,
     "input": [
      "def build_frame(url):\n",
      "    \"\"\"\n",
      "    Returns a pandas DataFrame object containing\n",
      "    the data returned from the given url\n",
      "    \"\"\"\n",
      "    source = requests.get(url).text\n",
      "    \n",
      "    # Use StringIO because pd.DataFrame.from_csv requires .read() method\n",
      "    s = StringIO(source)\n",
      "    \n",
      "    return pd.DataFrame.from_csv(s, index_col=None).convert_objects(\n",
      "            convert_dates=\"coerce\", convert_numeric=True)"
     ],
     "language": "python",
     "metadata": {},
     "outputs": [],
     "prompt_number": 187
    },
    {
     "cell_type": "code",
     "collapsed": false,
     "input": [
      "# Makes a dictionary of pandas DataFrames keyed on election string.\n",
      "dfs = dict((election.split(\"/\")[-1][:-4], build_frame(election)) for election in election_urls)"
     ],
     "language": "python",
     "metadata": {},
     "outputs": [],
     "prompt_number": 212
    },
    {
     "cell_type": "markdown",
     "metadata": {},
     "source": [
      "Show the head of the DataFrame containing the polls for the 2014 Senate race in Kentucky between McConnell and Grimes."
     ]
    },
    {
     "cell_type": "code",
     "collapsed": false,
     "input": [
      "urlref = dict((key.split(\"-sena\")[0][5:],key) for key in dfs.keys())\n",
      "#Only works for 32/36 states. Would figure out how to account for the four double counted states\n",
      "#(as wella as the one state labeled incorrectly), but I've already used two late days, it's 8pm\n",
      "#and my roommate is having a birthday party next door. Sorry :(\n",
      "\n",
      "    \n",
      "dfs[urlref[\"kentucky\"]].head()\n"
     ],
     "language": "python",
     "metadata": {},
     "outputs": [
      {
       "html": [
        "<div style=\"max-height:1000px;max-width:1500px;overflow:auto;\">\n",
        "<table border=\"1\" class=\"dataframe\">\n",
        "  <thead>\n",
        "    <tr style=\"text-align: right;\">\n",
        "      <th></th>\n",
        "      <th>Pollster</th>\n",
        "      <th>Start Date</th>\n",
        "      <th>End Date</th>\n",
        "      <th>Entry Date/Time (ET)</th>\n",
        "      <th>Number of Observations</th>\n",
        "      <th>Population</th>\n",
        "      <th>Mode</th>\n",
        "      <th>McConnell</th>\n",
        "      <th>Grimes</th>\n",
        "      <th>Undecided</th>\n",
        "      <th>Pollster URL</th>\n",
        "      <th>Source URL</th>\n",
        "      <th>Partisan</th>\n",
        "      <th>Affiliation</th>\n",
        "    </tr>\n",
        "  </thead>\n",
        "  <tbody>\n",
        "    <tr>\n",
        "      <th>0</th>\n",
        "      <td>                       Mellman (D-Grimes)</td>\n",
        "      <td>2014-09-19</td>\n",
        "      <td>2014-09-27</td>\n",
        "      <td>2014-10-01 15:13:47</td>\n",
        "      <td> 1800</td>\n",
        "      <td> Likely Voters</td>\n",
        "      <td>      Live Phone</td>\n",
        "      <td> 40</td>\n",
        "      <td> 42</td>\n",
        "      <td> 16</td>\n",
        "      <td> http://elections.huffingtonpost.com/pollster/p...</td>\n",
        "      <td> http://images.politico.com/global/2014/09/30/m...</td>\n",
        "      <td>     Sponsor</td>\n",
        "      <td>  Dem</td>\n",
        "    </tr>\n",
        "    <tr>\n",
        "      <th>1</th>\n",
        "      <td>                  Gravis/Human Events (R)</td>\n",
        "      <td>2014-09-13</td>\n",
        "      <td>2014-09-16</td>\n",
        "      <td>2014-09-19 14:57:03</td>\n",
        "      <td>  839</td>\n",
        "      <td> Likely Voters</td>\n",
        "      <td> Automated Phone</td>\n",
        "      <td> 51</td>\n",
        "      <td> 41</td>\n",
        "      <td>  8</td>\n",
        "      <td> http://elections.huffingtonpost.com/pollster/p...</td>\n",
        "      <td> http://gravismarketing.com/polling-and-market-...</td>\n",
        "      <td>     Sponsor</td>\n",
        "      <td>  Rep</td>\n",
        "    </tr>\n",
        "    <tr>\n",
        "      <th>2</th>\n",
        "      <td>                            Ipsos/Reuters</td>\n",
        "      <td>2014-09-08</td>\n",
        "      <td>2014-09-12</td>\n",
        "      <td>2014-09-22 15:23:23</td>\n",
        "      <td>  944</td>\n",
        "      <td> Likely Voters</td>\n",
        "      <td>        Internet</td>\n",
        "      <td> 46</td>\n",
        "      <td> 42</td>\n",
        "      <td>  6</td>\n",
        "      <td> http://elections.huffingtonpost.com/pollster/p...</td>\n",
        "      <td>     http://ipsos-na.com/download/pr.aspx?id=13904</td>\n",
        "      <td> Nonpartisan</td>\n",
        "      <td> None</td>\n",
        "    </tr>\n",
        "    <tr>\n",
        "      <th>3</th>\n",
        "      <td> Magellan (R-National Mining Association)</td>\n",
        "      <td>2014-09-04</td>\n",
        "      <td>2014-09-07</td>\n",
        "      <td>2014-09-10 15:44:29</td>\n",
        "      <td>  742</td>\n",
        "      <td> Likely Voters</td>\n",
        "      <td> Automated Phone</td>\n",
        "      <td> 50</td>\n",
        "      <td> 42</td>\n",
        "      <td>  2</td>\n",
        "      <td> http://elections.huffingtonpost.com/pollster/p...</td>\n",
        "      <td> http://www.slideshare.net/MagellanStrat/nation...</td>\n",
        "      <td>     Sponsor</td>\n",
        "      <td>  Rep</td>\n",
        "    </tr>\n",
        "    <tr>\n",
        "      <th>4</th>\n",
        "      <td>                       Mellman (D-Grimes)</td>\n",
        "      <td>2014-09-04</td>\n",
        "      <td>2014-09-07</td>\n",
        "      <td>2014-09-10 18:53:37</td>\n",
        "      <td>  800</td>\n",
        "      <td> Likely Voters</td>\n",
        "      <td>      Live Phone</td>\n",
        "      <td> 42</td>\n",
        "      <td> 43</td>\n",
        "      <td> 15</td>\n",
        "      <td> http://elections.huffingtonpost.com/pollster/p...</td>\n",
        "      <td> http://images.politico.com/global/2014/09/09/1...</td>\n",
        "      <td>     Sponsor</td>\n",
        "      <td>  Dem</td>\n",
        "    </tr>\n",
        "  </tbody>\n",
        "</table>\n",
        "<p>5 rows \u00d7 14 columns</p>\n",
        "</div>"
       ],
       "metadata": {},
       "output_type": "pyout",
       "prompt_number": 468,
       "text": [
        "                                   Pollster Start Date   End Date  \\\n",
        "0                        Mellman (D-Grimes) 2014-09-19 2014-09-27   \n",
        "1                   Gravis/Human Events (R) 2014-09-13 2014-09-16   \n",
        "2                             Ipsos/Reuters 2014-09-08 2014-09-12   \n",
        "3  Magellan (R-National Mining Association) 2014-09-04 2014-09-07   \n",
        "4                        Mellman (D-Grimes) 2014-09-04 2014-09-07   \n",
        "\n",
        "  Entry Date/Time (ET)  Number of Observations     Population  \\\n",
        "0  2014-10-01 15:13:47                    1800  Likely Voters   \n",
        "1  2014-09-19 14:57:03                     839  Likely Voters   \n",
        "2  2014-09-22 15:23:23                     944  Likely Voters   \n",
        "3  2014-09-10 15:44:29                     742  Likely Voters   \n",
        "4  2014-09-10 18:53:37                     800  Likely Voters   \n",
        "\n",
        "              Mode  McConnell  Grimes  Undecided  \\\n",
        "0       Live Phone         40      42         16   \n",
        "1  Automated Phone         51      41          8   \n",
        "2         Internet         46      42          6   \n",
        "3  Automated Phone         50      42          2   \n",
        "4       Live Phone         42      43         15   \n",
        "\n",
        "                                        Pollster URL  \\\n",
        "0  http://elections.huffingtonpost.com/pollster/p...   \n",
        "1  http://elections.huffingtonpost.com/pollster/p...   \n",
        "2  http://elections.huffingtonpost.com/pollster/p...   \n",
        "3  http://elections.huffingtonpost.com/pollster/p...   \n",
        "4  http://elections.huffingtonpost.com/pollster/p...   \n",
        "\n",
        "                                          Source URL     Partisan Affiliation  \n",
        "0  http://images.politico.com/global/2014/09/30/m...      Sponsor         Dem  \n",
        "1  http://gravismarketing.com/polling-and-market-...      Sponsor         Rep  \n",
        "2      http://ipsos-na.com/download/pr.aspx?id=13904  Nonpartisan        None  \n",
        "3  http://www.slideshare.net/MagellanStrat/nation...      Sponsor         Rep  \n",
        "4  http://images.politico.com/global/2014/09/09/1...      Sponsor         Dem  \n",
        "\n",
        "[5 rows x 14 columns]"
       ]
      }
     ],
     "prompt_number": 468
    },
    {
     "cell_type": "markdown",
     "metadata": {},
     "source": [
      "#### Problem 4(b)\n",
      "\n",
      "For each 2014 Senate race, create a preliminary prediction of the result for that state."
     ]
    },
    {
     "cell_type": "code",
     "collapsed": false,
     "input": [
      "#Creates function to process urls\n",
      "def prediction(urlthing):\n",
      "    #pulls data from dict\n",
      "    temp2 = dfs[urlthing]\n",
      "    #gets candidate name\n",
      "    candidate = temp2.columns[7]\n",
      "    #finds victory margin predicted by each poll\n",
      "    marg = temp2[candidate] - temp2[temp2.columns[8]]\n",
      "    #finds mean of marg\n",
      "    predmean = marg.mean()\n",
      "    #finds std of marg\n",
      "    predstd = marg.std()\n",
      "    #gets probability from mean and std\n",
      "    chance = (1-stat.norm.cdf(-predmean/predstd))*100\n",
      "    #gets state name\n",
      "    state = urlthing.split(\"-sena\")[0][5:]\n",
      "    print \"%s has a %d%% chance of winning in %s\" % (candidate,chance,state)\n",
      "    if (marg.count()<5):\n",
      "        print \"There have been too few polls in %s to make a confident prediction on this race\" % state\n",
      "    print \"\\n\"\n",
      "\n",
      "#Runs predictions for all the urls in key\n",
      "for key in dfs.keys():\n",
      "    prediction(key)"
     ],
     "language": "python",
     "metadata": {},
     "outputs": [
      {
       "output_type": "stream",
       "stream": "stdout",
       "text": [
        "Daines has a 100% chance of winning in montana\n",
        "There have been too few polls in montana to make a confident prediction on this race\n",
        "\n",
        "\n",
        "Hagan has a 77% chance of winning in north-carolina\n",
        "\n",
        "\n",
        "Alexander has a 99% chance of winning in tennessee\n",
        "There have been too few polls in tennessee to make a confident prediction on this race\n",
        "\n",
        "\n",
        "Peters has a 76% chance of winning in michigan\n",
        "\n",
        "\n",
        "Enzi has a 99% chance of winning in wyoming\n",
        "There have been too few polls in wyoming to make a confident prediction on this race\n",
        "\n",
        "\n",
        "Sullivan has a 38% chance of winning in alaska\n",
        "\n",
        "\n",
        "Merkley has a 95% chance of winning in oregon\n",
        "\n",
        "\n",
        "Shaheen has a 93% chance of winning in new-hampshire\n",
        "\n",
        "\n",
        "Cochran has a 99% chance of winning in mississippi\n",
        "\n",
        "\n",
        "Reed has a 99% chance of winning in rhode-island\n",
        "There have been too few polls in rhode-island to make a confident prediction on this race\n",
        "\n",
        "\n",
        "Booker has a 99% chance of winning in new-jersey\n",
        "\n",
        "\n",
        "Warner has a 99% chance of winning in virginia\n",
        "\n",
        "\n",
        "Rounds has a 98% chance of winning in south-dakota\n",
        "\n",
        "\n",
        "McConnell has a 73% chance of winning in kentucky\n",
        "\n",
        "\n",
        "Ernst has a 36% chance of winning in iowa\n",
        "\n",
        "\n",
        "Inhofe has a 99% chance of winning in oklahoma\n",
        "There have been too few polls in oklahoma to make a confident prediction on this race\n",
        "\n",
        "\n",
        "Durbin has a 98% chance of winning in illinois\n",
        "\n",
        "\n",
        "Graham has a 99% chance of winning in south-carolina\n",
        "\n",
        "\n",
        "Collins has a 99% chance of winning in maine\n",
        "\n",
        "\n",
        "Capito has a 99% chance of winning in west-virginia\n",
        "\n",
        "\n",
        "Schatz has a 100% chance of winning in hawaii\n",
        "There have been too few polls in hawaii to make a confident prediction on this race\n",
        "\n",
        "\n",
        "Sasse has a 99% chance of winning in louisiana\n",
        "There have been too few polls in louisiana to make a confident prediction on this race\n",
        "\n",
        "\n",
        "Coons has a 99% chance of winning in delaware\n",
        "There have been too few polls in delaware to make a confident prediction on this race\n",
        "\n",
        "\n",
        "Markey has a 99% chance of winning in massachusetts\n",
        "\n",
        "\n",
        "Franken has a 99% chance of winning in minnesota\n",
        "\n",
        "\n",
        "Cassidy has a 48% chance of winning in louisiana\n",
        "\n",
        "\n",
        "Perdue has a 65% chance of winning in georgia\n",
        "\n",
        "\n",
        "Orman has a 30% chance of winning in kansas\n",
        "\n",
        "\n",
        "Lankford has a 99% chance of winning in oklahoma\n",
        "There have been too few polls in oklahoma to make a confident prediction on this race\n",
        "\n",
        "\n",
        "Udall has a 99% chance of winning in new-mexico\n",
        "\n",
        "\n",
        "Risch has a 99% chance of winning in idaho\n",
        "There have been too few polls in idaho to make a confident prediction on this race\n",
        "\n",
        "\n",
        "Cornyn has a 99% chance of winning in texas\n",
        "\n",
        "\n",
        "Cotton has a 56% chance of winning in arkansas\n",
        "\n",
        "\n",
        "Scott has a 99% chance of winning in south-carolina\n",
        "There have been too few polls in south-carolina to make a confident prediction on this race\n",
        "\n",
        "\n",
        "Gardner has a 39% chance of winning in colorado\n",
        "\n",
        "\n",
        "Shaheen has a 99% chance of winning in new-hampshire\n",
        "There have been too few polls in new-hampshire to make a confident prediction on this race\n",
        "\n",
        "\n"
       ]
      }
     ],
     "prompt_number": 495
    },
    {
     "cell_type": "markdown",
     "metadata": {},
     "source": [
      "# Submission Instructions\n",
      "\n",
      "To submit your homework, create a folder named **lastname_firstinitial_hw#** and place your IPython notebooks, data files, and any other files in this folder. Your IPython Notebooks should be completely executed with the results visible in the notebook. We should not have to run any code.  Compress the folder (please use .zip compression) and submit to the CS109 dropbox in the appropriate folder. *If we cannot access your work because these directions are not followed correctly, we will not grade your work.*\n"
     ]
    },
    {
     "cell_type": "code",
     "collapsed": false,
     "input": [],
     "language": "python",
     "metadata": {},
     "outputs": [],
     "prompt_number": 358
    }
   ],
   "metadata": {}
  }
 ]
}