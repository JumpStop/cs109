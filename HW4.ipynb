{
 "metadata": {
  "name": "",
  "signature": "sha256:34a30f607b784cabe3c3d836e3c9e68c605098d77308d83db9c531bf1679decb"
 },
 "nbformat": 3,
 "nbformat_minor": 0,
 "worksheets": [
  {
   "cells": [
    {
     "cell_type": "markdown",
     "metadata": {},
     "source": [
      "# Homework 4: Can you predict the Midterm Elections?\n",
      "\n",
      "Due: Thursday, October 30, 2014 11:59 PM\n",
      "\n",
      "<a href=https://raw.githubusercontent.com/cs109/2014/master/homework/HW4.ipynb download=HW4.ipynb> Download this assignment</a>\n",
      "\n",
      "#### Submission Instructions\n",
      "To submit your homework, create a folder named lastname_firstinitial_hw# and place your IPython notebooks, data files, and any other files in this folder. Your IPython Notebooks should be completely executed with the results visible in the notebook. We should not have to run any code. Compress the folder (please use .zip compression) and submit to the CS109 dropbox in the appropriate folder. If we cannot access your work because these directions are not followed correctly, we will not grade your work. For the competition (problem 4), we will post a link on Piazza to a Google Form for you to submit your predictions. \n",
      "\n",
      "\n",
      "---\n"
     ]
    },
    {
     "cell_type": "markdown",
     "metadata": {},
     "source": [
      "## Introduction\n",
      "\n",
      "**Add Introduction**\n",
      "\n",
      "You will use the [HuffPost Pollster API](http://elections.huffingtonpost.com/pollster/api) to extract the polls for the current 2014 Senate Midterm Elections and provide a final prediction of the result of each state.\n",
      "\n",
      "#### Data\n",
      "\n",
      "We will use the polls from the [2014 Senate Midterm Elections](http://elections.huffingtonpost.com/pollster) from the [HuffPost Pollster API](http://elections.huffingtonpost.com/pollster/api). \n",
      "\n",
      "---"
     ]
    },
    {
     "cell_type": "code",
     "collapsed": false,
     "input": [
      "# special IPython command to prepare the notebook for matplotlib\n",
      "%matplotlib inline \n",
      "\n",
      "import requests \n",
      "from StringIO import StringIO\n",
      "import numpy as np\n",
      "import pandas as pd # pandas\n",
      "import matplotlib.pyplot as plt # module for plotting \n",
      "import datetime as dt # module for manipulating dates and times\n",
      "import numpy.linalg as lin # module for performing linear algebra operations\n",
      "import scipy.stats as stat #imported to calculate confidence\n",
      "print 1"
     ],
     "language": "python",
     "metadata": {},
     "outputs": [
      {
       "output_type": "stream",
       "stream": "stdout",
       "text": [
        "1\n"
       ]
      }
     ],
     "prompt_number": 1
    },
    {
     "cell_type": "markdown",
     "metadata": {},
     "source": [
      "## Problem 1: Data Wrangling\n",
      "\n",
      "We will read in the polls from the [2014 Senate Midterm Elections](http://elections.huffingtonpost.com/pollster) from the [HuffPost Pollster API](http://elections.huffingtonpost.com/pollster/api) and create a dictionary of DataFrames as well a master table information for each race."
     ]
    },
    {
     "cell_type": "markdown",
     "metadata": {},
     "source": [
      "#### Problem 1(a)\n",
      "\n",
      "Read in [this JSON object](http://elections.huffingtonpost.com/pollster/api/charts/?topic=2014-senate) containing the polls for the 2014 Senate Elections using the HuffPost API. Call this JSON object `info`.  This JSON object is imported as a list in Python where each element contains the information for one race.  Use the function `type` to confirm the that `info` is a list. "
     ]
    },
    {
     "cell_type": "code",
     "collapsed": false,
     "input": [
      "url_str = \"http://elections.huffingtonpost.com/pollster/api/charts/?topic=2014-senate\"\n",
      "info = [electionf['url'] + '.csv' for electionf in requests.get(url_str).json()]\n",
      "#Taken from http://stackoverflow.com/questions/9759930/how-to-check-if-an-element-of-a-list-is-a-list-in-python\n",
      "isinstance(info,list)"
     ],
     "language": "python",
     "metadata": {},
     "outputs": [
      {
       "metadata": {},
       "output_type": "pyout",
       "prompt_number": 2,
       "text": [
        "True"
       ]
      }
     ],
     "prompt_number": 2
    },
    {
     "cell_type": "markdown",
     "metadata": {},
     "source": [
      "#### Problem 1(b)\n",
      "\n",
      "For each element of the list in `info` extract the state. We should have one poll per state, but we do not. Why?\n",
      "\n",
      "**Hint**: Use the internet to find out information on the races in each state that has more than one entry. Eliminate entries of the list that represent races that are not happening."
     ]
    },
    {
     "cell_type": "code",
     "collapsed": false,
     "input": [
      "info.sort()\n",
      "for url in info:\n",
      "    print url.split(\"14-\")[1].split(\"-sena\")[0].replace(\"-\",\" \")\n",
      "    print url"
     ],
     "language": "python",
     "metadata": {},
     "outputs": [
      {
       "output_type": "stream",
       "stream": "stdout",
       "text": [
        "alaska\n",
        "http://elections.huffingtonpost.com/pollster/2014-alaska-senate-sullivan-vs-begich.csv\n",
        "arkansas\n",
        "http://elections.huffingtonpost.com/pollster/2014-arkansas-senate-cotton-vs-pryor.csv\n",
        "colorado\n",
        "http://elections.huffingtonpost.com/pollster/2014-colorado-senate-gardner-vs-udall.csv\n",
        "delaware\n",
        "http://elections.huffingtonpost.com/pollster/2014-delaware-senate-wade-vs-coons.csv\n",
        "georgia\n",
        "http://elections.huffingtonpost.com/pollster/2014-georgia-senate-perdue-vs-nunn.csv\n",
        "georgia\n",
        "http://elections.huffingtonpost.com/pollster/2014-georgia-senate-runoff.csv\n",
        "hawaii\n",
        "http://elections.huffingtonpost.com/pollster/2014-hawaii-senate-cavasso-vs-schatz.csv\n",
        "idaho\n",
        "http://elections.huffingtonpost.com/pollster/2014-idaho-senate-risch-vs-mitchell.csv\n",
        "illinois\n",
        "http://elections.huffingtonpost.com/pollster/2014-illinois-senate-oberweis-vs-durbin.csv\n",
        "iowa\n",
        "http://elections.huffingtonpost.com/pollster/2014-iowa-senate-ernst-vs-braley.csv\n",
        "kansas\n",
        "http://elections.huffingtonpost.com/pollster/2014-kansas-senate-roberts-vs-orman-vs-taylor.csv\n",
        "kentucky\n",
        "http://elections.huffingtonpost.com/pollster/2014-kentucky-senate-mcconnell-vs-grimes.csv\n",
        "louisiana\n",
        "http://elections.huffingtonpost.com/pollster/2014-louisiana-senate-cassidy-vs-landrieu.csv\n",
        "maine\n",
        "http://elections.huffingtonpost.com/pollster/2014-maine-senate-collins-vs-bellows.csv\n",
        "massachusetts\n",
        "http://elections.huffingtonpost.com/pollster/2014-massachusetts-senate-herr-vs-markey.csv\n",
        "michigan\n",
        "http://elections.huffingtonpost.com/pollster/2014-michigan-senate-land-vs-peters.csv\n",
        "minnesota\n",
        "http://elections.huffingtonpost.com/pollster/2014-minnesota-senate-mcfadden-vs-franken.csv\n",
        "mississippi\n",
        "http://elections.huffingtonpost.com/pollster/2014-mississippi-senate-cochran-vs-childers.csv\n",
        "montana\n",
        "http://elections.huffingtonpost.com/pollster/2014-montana-senate-daines-vs-curtis.csv\n",
        "nebraska\n",
        "http://elections.huffingtonpost.com/pollster/2014-nebraska-senate-sasse-vs-domina.csv\n",
        "new hampshire\n",
        "http://elections.huffingtonpost.com/pollster/2014-new-hampshire-senate-bass-vs-shaheen.csv\n",
        "new hampshire\n",
        "http://elections.huffingtonpost.com/pollster/2014-new-hampshire-senate-brown-vs-shaheen.csv\n",
        "new jersey\n",
        "http://elections.huffingtonpost.com/pollster/2014-new-jersey-senate-bell-vs-booker.csv\n",
        "new mexico\n",
        "http://elections.huffingtonpost.com/pollster/2014-new-mexico-senate-weh-vs-udall.csv\n",
        "north carolina\n",
        "http://elections.huffingtonpost.com/pollster/2014-north-carolina-senate-tillis-vs-hagan.csv\n",
        "oklahoma\n",
        "http://elections.huffingtonpost.com/pollster/2014-oklahoma-senate-inhofe-vs-silverstein.csv\n",
        "oklahoma\n",
        "http://elections.huffingtonpost.com/pollster/2014-oklahoma-senate-lankford-vs-johnson.csv\n",
        "oregon\n",
        "http://elections.huffingtonpost.com/pollster/2014-oregon-senate-wehby-vs-merkley.csv\n",
        "rhode island\n",
        "http://elections.huffingtonpost.com/pollster/2014-rhode-island-senate-zaccaria-vs-reed.csv\n",
        "south carolina\n",
        "http://elections.huffingtonpost.com/pollster/2014-south-carolina-senate-graham-vs-hutto.csv\n",
        "south carolina\n",
        "http://elections.huffingtonpost.com/pollster/2014-south-carolina-senate-scott-vs-dickerson.csv\n",
        "south dakota\n",
        "http://elections.huffingtonpost.com/pollster/2014-south-dakota-senate-rounds-vs-weiland.csv\n",
        "tennessee\n",
        "http://elections.huffingtonpost.com/pollster/2014-tennessee-senate-alexander-vs-ball.csv\n",
        "texas\n",
        "http://elections.huffingtonpost.com/pollster/2014-texas-senate-cornyn-vs-alameel.csv\n",
        "virginia\n",
        "http://elections.huffingtonpost.com/pollster/2014-virginia-senate-gillespie-vs-warner.csv\n",
        "west virginia\n",
        "http://elections.huffingtonpost.com/pollster/2014-west-virginia-senate-capito-vs-tennant.csv\n",
        "wyoming\n",
        "http://elections.huffingtonpost.com/pollster/2014-wyoming-senate.csv\n"
       ]
      }
     ],
     "prompt_number": 3
    },
    {
     "cell_type": "markdown",
     "metadata": {},
     "source": [
      "** Your answer here: **"
     ]
    },
    {
     "cell_type": "markdown",
     "metadata": {},
     "source": [
      "#### Problem 1(c)\n",
      "\n",
      "Create a dictionary of pandas DataFrames called `polls` keyed by the name of the election (a string). Each value in the dictionary should contain the polls for one of the races."
     ]
    },
    {
     "cell_type": "code",
     "collapsed": false,
     "input": [
      "def build_frame(url):\n",
      "    \"\"\"\n",
      "    Returns a pandas DataFrame object containing\n",
      "    the data returned from the given url\n",
      "    \"\"\"\n",
      "    source = requests.get(url).text\n",
      "    \n",
      "    # Use StringIO because pd.DataFrame.from_csv requires .read() method\n",
      "    s = StringIO(source)\n",
      "    \n",
      "    return pd.DataFrame.from_csv(s, index_col=None).convert_objects(\n",
      "            convert_dates=\"coerce\", convert_numeric=True)"
     ],
     "language": "python",
     "metadata": {},
     "outputs": [],
     "prompt_number": 4
    },
    {
     "cell_type": "code",
     "collapsed": false,
     "input": [
      "dfs = dict((election, build_frame(election)) for election in info)"
     ],
     "language": "python",
     "metadata": {},
     "outputs": [],
     "prompt_number": 5
    },
    {
     "cell_type": "code",
     "collapsed": false,
     "input": [
      "sdic = dict((url.split(\"14-\")[1].split(\"-sena\")[0].replace(\"-\",\" \"),url) for url in info)"
     ],
     "language": "python",
     "metadata": {},
     "outputs": [],
     "prompt_number": 6
    },
    {
     "cell_type": "code",
     "collapsed": false,
     "input": [
      "print dfs[sdic[\"kentucky\"]].head()"
     ],
     "language": "python",
     "metadata": {},
     "outputs": [
      {
       "output_type": "stream",
       "stream": "stdout",
       "text": [
        "                                            Pollster Start Date   End Date  \\\n",
        "0                                     CBS/NYT/YouGov 2014-10-16 2014-10-23   \n",
        "1                                  VCR (R-McConnell) 2014-10-16 2014-10-21   \n",
        "2                        Western Kentucky University 2014-10-16 2014-10-19   \n",
        "3  SurveyUSA/Courier-Journal/Herald-Leader/WHAS/WKYT 2014-10-15 2014-10-19   \n",
        "4                                          Rasmussen 2014-10-15 2014-10-16   \n",
        "\n",
        "  Entry Date/Time (ET)  Number of Observations     Population  \\\n",
        "0  2014-10-26 15:00:07                    1502  Likely Voters   \n",
        "1  2014-10-22 20:51:03                     815  Likely Voters   \n",
        "2  2014-10-21 11:18:33                     557  Likely Voters   \n",
        "3  2014-10-20 22:11:55                     655  Likely Voters   \n",
        "4  2014-10-17 16:57:36                    1000  Likely Voters   \n",
        "\n",
        "              Mode  McConnell  Grimes  Undecided  \\\n",
        "0         Internet         45      39         14   \n",
        "1       Live Phone         49      41          7   \n",
        "2       Live Phone         45      42          8   \n",
        "3       IVR/Online         44      43          8   \n",
        "4  Automated Phone         52      44          3   \n",
        "\n",
        "                                        Pollster URL  \\\n",
        "0  http://elections.huffingtonpost.com/pollster/p...   \n",
        "1  http://elections.huffingtonpost.com/pollster/p...   \n",
        "2  http://elections.huffingtonpost.com/pollster/p...   \n",
        "3  http://elections.huffingtonpost.com/pollster/p...   \n",
        "4  http://elections.huffingtonpost.com/pollster/p...   \n",
        "\n",
        "                                          Source URL     Partisan Affiliation  \n",
        "0  https://today.yougov.com/news/2014/09/07/battl...  Nonpartisan        None  \n",
        "1  http://big.assets.huffingtonpost.com/VCRMcConn...      Sponsor         Rep  \n",
        "2  http://wkussrc.blogspot.com/2014/10/2014-big-r...  Nonpartisan        None  \n",
        "3  http://www.surveyusa.com/client/PollReport.asp...  Nonpartisan        None  \n",
        "4  http://www.rasmussenreports.com/public_content...  Nonpartisan        None  \n",
        "\n",
        "[5 rows x 14 columns]\n"
       ]
      }
     ],
     "prompt_number": 7
    },
    {
     "cell_type": "markdown",
     "metadata": {},
     "source": [
      "#### Problem 1(d)\n",
      "\n",
      "Now creaate a master table information containing information about each race. Create a pandas DataFrame called `candidates` with rows containing information about each race. The `candidates` DataFrame should have the following columns: \n",
      "\n",
      "1. `State` = entries should be unique\n",
      "2. `R` = name of republican candidate\n",
      "3. `D` = name of non-republican candidate (Democrate or Independent) \n",
      "4. `incumbent` = R, D or NA\n",
      "\n",
      "**Hint**: You will need a considerable amount of data wrangling for this."
     ]
    },
    {
     "cell_type": "code",
     "collapsed": false,
     "input": [
      "### Your code here ###"
     ],
     "language": "python",
     "metadata": {},
     "outputs": [],
     "prompt_number": 2
    },
    {
     "cell_type": "markdown",
     "metadata": {},
     "source": [
      "## Problem 2: Confidence Intervals\n",
      "\n",
      "Compute a 99% confidence interval for each state. "
     ]
    },
    {
     "cell_type": "markdown",
     "metadata": {},
     "source": [
      "#### Problem 2(a)\n",
      "\n",
      "Assume you have $M$ polls with sample sizes $n_1, \\dots, n_M$. If the polls are independent, what is the average of the variances of each poll if the true proportion is $p$?"
     ]
    },
    {
     "cell_type": "markdown",
     "metadata": {},
     "source": [
      "** Your answer here: **"
     ]
    },
    {
     "cell_type": "markdown",
     "metadata": {},
     "source": [
      "#### Problem 2(b)\n",
      "\n",
      "Compute the square root of these values in Problem 2(b) for the republican candidates in each race. Then, compute the standard deviations of the observed poll results for each race. "
     ]
    },
    {
     "cell_type": "code",
     "collapsed": false,
     "input": [
      "### Your code here ###"
     ],
     "language": "python",
     "metadata": {},
     "outputs": []
    },
    {
     "cell_type": "markdown",
     "metadata": {},
     "source": [
      "#### Problem 2(c) \n",
      "\n",
      "Plot observed versus theoretical (average of the theoretical SDs) with the area of the point proportional to number of polls. How do these compare?"
     ]
    },
    {
     "cell_type": "code",
     "collapsed": false,
     "input": [
      "### Your code here ###"
     ],
     "language": "python",
     "metadata": {},
     "outputs": []
    },
    {
     "cell_type": "markdown",
     "metadata": {},
     "source": [
      "** Your answer here: **"
     ]
    },
    {
     "cell_type": "markdown",
     "metadata": {},
     "source": [
      "#### Problem 2(d)\n",
      "\n",
      "Repeat Problem 2(c) but include only the most recent polls from the last two months. Do they match better or worse or the same? Can we just trust the theoretical values?"
     ]
    },
    {
     "cell_type": "code",
     "collapsed": false,
     "input": [
      "### Your code here ###"
     ],
     "language": "python",
     "metadata": {},
     "outputs": []
    },
    {
     "cell_type": "markdown",
     "metadata": {},
     "source": [
      "** Your answer here: **"
     ]
    },
    {
     "cell_type": "markdown",
     "metadata": {},
     "source": [
      "#### Problem 2(e)\n",
      "\n",
      "Create a scatter plot with each point representing one state. Is there one or more races that are outlier in that it they have much larger variabilityes than expected ? Explore the original poll data and explain why the discrepancy?"
     ]
    },
    {
     "cell_type": "code",
     "collapsed": false,
     "input": [
      "### Your code here ###"
     ],
     "language": "python",
     "metadata": {},
     "outputs": []
    },
    {
     "cell_type": "markdown",
     "metadata": {},
     "source": [
      "** Your answer here: **"
     ]
    },
    {
     "cell_type": "markdown",
     "metadata": {},
     "source": [
      "#### Problem 2(f)\n",
      "\n",
      " Construct confidence intervals for the difference in each race. Use either theoretical or data driven estimates of the standard error depending on your answer to this question. Use the results in Problem 2(e), to justify your choice.\n"
     ]
    },
    {
     "cell_type": "code",
     "collapsed": false,
     "input": [
      "### Your code here ###"
     ],
     "language": "python",
     "metadata": {},
     "outputs": []
    },
    {
     "cell_type": "markdown",
     "metadata": {},
     "source": [
      "# Problem 3: Prediction and Posterior Probabilities\n",
      "\n",
      "Perform a Bayesian analysis to predict the probability of Republicans winning in each state then provide a posterior distribution of the number of republicans in the senate."
     ]
    },
    {
     "cell_type": "markdown",
     "metadata": {},
     "source": [
      "#### Problem 3(a)\n",
      "\n",
      "First, we define a Bayesian model for each race. The prior for the difference $d$ between republicans and democtrats will be $N(\\mu,\\tau^2)$. Say before seeing poll data you have no idea who is going to win, what should $\\mu$ be? How about $\\tau$, should it be large or small? "
     ]
    },
    {
     "cell_type": "markdown",
     "metadata": {},
     "source": [
      "** Your answer here: **"
     ]
    },
    {
     "cell_type": "markdown",
     "metadata": {},
     "source": [
      "#### Problem 3(b)\n",
      "\n",
      "What is the distribution of $d$ conditioned on $\\mu$. What is the posterior distribution of $\\mu | d$? \n",
      "\n",
      "**Hint**: Use normal approximation. "
     ]
    },
    {
     "cell_type": "markdown",
     "metadata": {},
     "source": [
      "**Your answer here:**"
     ]
    },
    {
     "cell_type": "markdown",
     "metadata": {},
     "source": [
      "#### Problem 3(c)\n",
      "\n",
      "The prior represents what we think before hand. We do not know who is expected to win, so we assume $\\mu=0$. For this problem estimate $\\tau$ using the observed differences across states (Hint: $\\tau$ represents the standard deviation of a typical difference). Compute the posterior mean for each state and plot it against original average. Is there much change? Why or why not? "
     ]
    },
    {
     "cell_type": "code",
     "collapsed": false,
     "input": [
      "### Your code here ###"
     ],
     "language": "python",
     "metadata": {},
     "outputs": []
    },
    {
     "cell_type": "markdown",
     "metadata": {},
     "source": [
      "**Your answer here:**"
     ]
    },
    {
     "cell_type": "markdown",
     "metadata": {},
     "source": [
      "#### Problem 3(d)\n",
      "\n",
      "For each state, report a probabilty of Republicans winning. How does your answer here compare to the other aggregators?"
     ]
    },
    {
     "cell_type": "code",
     "collapsed": false,
     "input": [
      "### Your code here ###"
     ],
     "language": "python",
     "metadata": {},
     "outputs": []
    },
    {
     "cell_type": "markdown",
     "metadata": {},
     "source": [
      "**Your answer here:**"
     ]
    },
    {
     "cell_type": "markdown",
     "metadata": {},
     "source": [
      "#### Problem 3(e)\n",
      "\n",
      "Use the posterior distributions in a Monte Carlo simulation to generate election results. In each simulation compute the total number of seats the Republican control. Show a histogram of these results."
     ]
    },
    {
     "cell_type": "code",
     "collapsed": false,
     "input": [
      "### Your code here ###"
     ],
     "language": "python",
     "metadata": {},
     "outputs": []
    },
    {
     "cell_type": "markdown",
     "metadata": {},
     "source": [
      "## Problem 4\n",
      "\n",
      "Predict the results for the 2014 Midterm Elections. We will have a three competitions with the terms for scoring entries described above. For both questions below, **explain** or provide commentary on how you arrived at your predictions including code. \n",
      "\n",
      "**Hint**: Use election results from 2010, 2012 to build and test models."
     ]
    },
    {
     "cell_type": "markdown",
     "metadata": {},
     "source": [
      "#### Problem 4(a)\n",
      "\n",
      "Predict the number of Republican senators. You may provide an interval. Smallest interval that includes the election day result wins. \n",
      "\n",
      "**Note**: we want the total so add the numbers of those that are not up for election."
     ]
    },
    {
     "cell_type": "code",
     "collapsed": false,
     "input": [
      "### Your code here ###"
     ],
     "language": "python",
     "metadata": {},
     "outputs": []
    },
    {
     "cell_type": "markdown",
     "metadata": {},
     "source": [
      "**Provide an explanation of methodology here**:"
     ]
    },
    {
     "cell_type": "markdown",
     "metadata": {},
     "source": [
      "#### Problem 4(b)\n",
      "\n",
      "Predict the R-D difference in each state. The predictions that minimize the residual sum of squares between predicted and observed differences wins."
     ]
    },
    {
     "cell_type": "code",
     "collapsed": false,
     "input": [
      "### Your code here ###"
     ],
     "language": "python",
     "metadata": {},
     "outputs": []
    },
    {
     "cell_type": "markdown",
     "metadata": {},
     "source": [
      "**Provide an explanation of methodology here**:"
     ]
    },
    {
     "cell_type": "markdown",
     "metadata": {},
     "source": [
      "#### Problem 4(c)\n",
      "\n",
      "Report a confidence interval for the R-D difference in each state. If the election day result falls outside your confidence interval in more than two states you are eliminated. For those surviving this cutoff, we will add up the size of all confidence intervals and sum. The smallest total length of confidence interval wins. \n",
      "\n",
      "**Note**: you can use Bayesian credible intervals or whatever else you want. "
     ]
    },
    {
     "cell_type": "code",
     "collapsed": false,
     "input": [
      "### Your code here ###"
     ],
     "language": "python",
     "metadata": {},
     "outputs": []
    },
    {
     "cell_type": "markdown",
     "metadata": {},
     "source": [
      "**Provide an explanation of methodology here**:"
     ]
    },
    {
     "cell_type": "markdown",
     "metadata": {},
     "source": [
      "# Submission Instructions\n",
      "\n",
      "To submit your homework, create a folder named **lastname_firstinitial_hw#** and place your IPython notebooks, data files, and any other files in this folder. Your IPython Notebooks should be completely executed with the results visible in the notebook. We should not have to run any code.  Compress the folder (please use .zip compression) and submit to the CS109 dropbox in the appropriate folder. *If we cannot access your work because these directions are not followed correctly, we will not grade your work.*\n"
     ]
    }
   ],
   "metadata": {}
  }
 ]
}